{
 "cells": [
  {
   "cell_type": "code",
   "execution_count": 1,
   "metadata": {},
   "outputs": [
    {
     "data": {
      "text/html": [
       "        <script type=\"text/javascript\">\n",
       "        window.PlotlyConfig = {MathJaxConfig: 'local'};\n",
       "        if (window.MathJax) {MathJax.Hub.Config({SVG: {font: \"STIX-Web\"}});}\n",
       "        if (typeof require !== 'undefined') {\n",
       "        require.undef(\"plotly\");\n",
       "        requirejs.config({\n",
       "            paths: {\n",
       "                'plotly': ['https://cdn.plot.ly/plotly-latest.min']\n",
       "            }\n",
       "        });\n",
       "        require(['plotly'], function(Plotly) {\n",
       "            window._Plotly = Plotly;\n",
       "        });\n",
       "        }\n",
       "        </script>\n",
       "        "
      ]
     },
     "metadata": {},
     "output_type": "display_data"
    }
   ],
   "source": [
    "import pandas as pd\n",
    "import numpy as np\n",
    "import matplotlib.pyplot as plt\n",
    "import seaborn as sns\n",
    "from scipy import stats\n",
    "from sklearn.tree import DecisionTreeClassifier\n",
    "from sklearn.ensemble import RandomForestClassifier\n",
    "from sklearn.metrics import classification_report, confusion_matrix\n",
    "from sklearn.datasets import fetch_20newsgroups_vectorized\n",
    "from sklearn.feature_selection import chi2\n",
    "from sklearn.feature_selection import RFE\n",
    "from sklearn.ensemble import ExtraTreesClassifier\n",
    "from sklearn import datasets\n",
    "from sklearn import metrics\n",
    "import types\n",
    "from sklearn.manifold import TSNE\n",
    "import plotly.graph_objs as go\n",
    "from plotly.offline import download_plotlyjs, init_notebook_mode, plot, iplot\n",
    "init_notebook_mode(connected=True)\n",
    "%matplotlib inline\n",
    "import seaborn as sns\n",
    "sns.set(style=\"darkgrid\", palette=\"bright\", font_scale=1.5)"
   ]
  },
  {
   "cell_type": "code",
   "execution_count": 3,
   "metadata": {},
   "outputs": [
    {
     "data": {
      "text/html": [
       "<div>\n",
       "<style scoped>\n",
       "    .dataframe tbody tr th:only-of-type {\n",
       "        vertical-align: middle;\n",
       "    }\n",
       "\n",
       "    .dataframe tbody tr th {\n",
       "        vertical-align: top;\n",
       "    }\n",
       "\n",
       "    .dataframe thead th {\n",
       "        text-align: right;\n",
       "    }\n",
       "</style>\n",
       "<table border=\"1\" class=\"dataframe\">\n",
       "  <thead>\n",
       "    <tr style=\"text-align: right;\">\n",
       "      <th></th>\n",
       "      <th>Country</th>\n",
       "      <th>Happiness Rank</th>\n",
       "      <th>count</th>\n",
       "      <th>MEAN</th>\n",
       "      <th>Unnamed: 4</th>\n",
       "      <th>Happiness Score</th>\n",
       "      <th>Unnamed: 6</th>\n",
       "      <th>Happiness Score.1</th>\n",
       "      <th>Unnamed: 8</th>\n",
       "      <th>Happiness Score.2</th>\n",
       "      <th>Unnamed: 10</th>\n",
       "      <th>Happiness Score.3</th>\n",
       "      <th>Unnamed: 12</th>\n",
       "      <th>Happiness Score.4</th>\n",
       "    </tr>\n",
       "  </thead>\n",
       "  <tbody>\n",
       "    <tr>\n",
       "      <th>1</th>\n",
       "      <td>Burundi</td>\n",
       "      <td>157.0</td>\n",
       "      <td>5.0</td>\n",
       "      <td>3.07900</td>\n",
       "      <td>Burundi</td>\n",
       "      <td>2.905</td>\n",
       "      <td>Burundi</td>\n",
       "      <td>2.905</td>\n",
       "      <td>Burundi</td>\n",
       "      <td>2.905</td>\n",
       "      <td>Burundi</td>\n",
       "      <td>2.905</td>\n",
       "      <td>Burundi</td>\n",
       "      <td>3.775</td>\n",
       "    </tr>\n",
       "    <tr>\n",
       "      <th>2</th>\n",
       "      <td>Central African Republic</td>\n",
       "      <td>NaN</td>\n",
       "      <td>4.0</td>\n",
       "      <td>3.13425</td>\n",
       "      <td>Central African Republic</td>\n",
       "      <td>3.678</td>\n",
       "      <td>NaN</td>\n",
       "      <td>NaN</td>\n",
       "      <td>Central African Republic</td>\n",
       "      <td>2.693</td>\n",
       "      <td>Central African Republic</td>\n",
       "      <td>3.083</td>\n",
       "      <td>Central African Republic</td>\n",
       "      <td>3.083</td>\n",
       "    </tr>\n",
       "    <tr>\n",
       "      <th>3</th>\n",
       "      <td>Afghanistan</td>\n",
       "      <td>154.0</td>\n",
       "      <td>5.0</td>\n",
       "      <td>3.51280</td>\n",
       "      <td>Afghanistan</td>\n",
       "      <td>3.575</td>\n",
       "      <td>Afghanistan</td>\n",
       "      <td>3.360</td>\n",
       "      <td>Afghanistan</td>\n",
       "      <td>3.794</td>\n",
       "      <td>Afghanistan</td>\n",
       "      <td>3.632</td>\n",
       "      <td>Afghanistan</td>\n",
       "      <td>3.203</td>\n",
       "    </tr>\n",
       "    <tr>\n",
       "      <th>4</th>\n",
       "      <td>Madagascar</td>\n",
       "      <td>148.0</td>\n",
       "      <td>5.0</td>\n",
       "      <td>3.70800</td>\n",
       "      <td>Madagascar</td>\n",
       "      <td>3.681</td>\n",
       "      <td>Madagascar</td>\n",
       "      <td>3.695</td>\n",
       "      <td>Madagascar</td>\n",
       "      <td>3.644</td>\n",
       "      <td>Madagascar</td>\n",
       "      <td>3.587</td>\n",
       "      <td>Madagascar</td>\n",
       "      <td>3.933</td>\n",
       "    </tr>\n",
       "    <tr>\n",
       "      <th>5</th>\n",
       "      <td>Guinea</td>\n",
       "      <td>151.0</td>\n",
       "      <td>5.0</td>\n",
       "      <td>3.77720</td>\n",
       "      <td>Guinea</td>\n",
       "      <td>3.656</td>\n",
       "      <td>Guinea</td>\n",
       "      <td>3.607</td>\n",
       "      <td>Guinea</td>\n",
       "      <td>3.507</td>\n",
       "      <td>Guinea</td>\n",
       "      <td>3.582</td>\n",
       "      <td>Guinea</td>\n",
       "      <td>4.534</td>\n",
       "    </tr>\n",
       "  </tbody>\n",
       "</table>\n",
       "</div>"
      ],
      "text/plain": [
       "                    Country  Happiness Rank  count     MEAN  \\\n",
       "1                   Burundi           157.0    5.0  3.07900   \n",
       "2  Central African Republic             NaN    4.0  3.13425   \n",
       "3               Afghanistan           154.0    5.0  3.51280   \n",
       "4                Madagascar           148.0    5.0  3.70800   \n",
       "5                    Guinea           151.0    5.0  3.77720   \n",
       "\n",
       "                 Unnamed: 4  Happiness Score   Unnamed: 6  Happiness Score.1  \\\n",
       "1                   Burundi            2.905      Burundi              2.905   \n",
       "2  Central African Republic            3.678          NaN                NaN   \n",
       "3               Afghanistan            3.575  Afghanistan              3.360   \n",
       "4                Madagascar            3.681   Madagascar              3.695   \n",
       "5                    Guinea            3.656       Guinea              3.607   \n",
       "\n",
       "                 Unnamed: 8  Happiness Score.2               Unnamed: 10  \\\n",
       "1                   Burundi              2.905                   Burundi   \n",
       "2  Central African Republic              2.693  Central African Republic   \n",
       "3               Afghanistan              3.794               Afghanistan   \n",
       "4                Madagascar              3.644                Madagascar   \n",
       "5                    Guinea              3.507                    Guinea   \n",
       "\n",
       "   Happiness Score.3               Unnamed: 12  Happiness Score.4  \n",
       "1              2.905                   Burundi              3.775  \n",
       "2              3.083  Central African Republic              3.083  \n",
       "3              3.632               Afghanistan              3.203  \n",
       "4              3.587                Madagascar              3.933  \n",
       "5              3.582                    Guinea              4.534  "
      ]
     },
     "execution_count": 3,
     "metadata": {},
     "output_type": "execute_result"
    }
   ],
   "source": [
    "df = pd.read_csv(\"Suicide_Rate(TOATAL).csv\")\n",
    "df = df.drop([df.index[0]])\n",
    "df.head(5)"
   ]
  },
  {
   "cell_type": "code",
   "execution_count": 4,
   "metadata": {},
   "outputs": [],
   "source": [
    "df = df.drop(['Happiness Rank', 'count','Unnamed: 4','Happiness Score','Unnamed: 6','Happiness Score.1','Unnamed: 8','Happiness Score.2',\n",
    "              'Unnamed: 10','Happiness Score.3','Unnamed: 12','Happiness Score.4'], axis='columns')"
   ]
  },
  {
   "cell_type": "code",
   "execution_count": 5,
   "metadata": {},
   "outputs": [
    {
     "data": {
      "text/html": [
       "<div>\n",
       "<style scoped>\n",
       "    .dataframe tbody tr th:only-of-type {\n",
       "        vertical-align: middle;\n",
       "    }\n",
       "\n",
       "    .dataframe tbody tr th {\n",
       "        vertical-align: top;\n",
       "    }\n",
       "\n",
       "    .dataframe thead th {\n",
       "        text-align: right;\n",
       "    }\n",
       "</style>\n",
       "<table border=\"1\" class=\"dataframe\">\n",
       "  <thead>\n",
       "    <tr style=\"text-align: right;\">\n",
       "      <th></th>\n",
       "      <th>Country</th>\n",
       "      <th>MEAN</th>\n",
       "    </tr>\n",
       "  </thead>\n",
       "  <tbody>\n",
       "    <tr>\n",
       "      <th>1</th>\n",
       "      <td>Burundi</td>\n",
       "      <td>3.07900</td>\n",
       "    </tr>\n",
       "    <tr>\n",
       "      <th>2</th>\n",
       "      <td>Central African Republic</td>\n",
       "      <td>3.13425</td>\n",
       "    </tr>\n",
       "    <tr>\n",
       "      <th>3</th>\n",
       "      <td>Afghanistan</td>\n",
       "      <td>3.51280</td>\n",
       "    </tr>\n",
       "    <tr>\n",
       "      <th>4</th>\n",
       "      <td>Madagascar</td>\n",
       "      <td>3.70800</td>\n",
       "    </tr>\n",
       "    <tr>\n",
       "      <th>5</th>\n",
       "      <td>Guinea</td>\n",
       "      <td>3.77720</td>\n",
       "    </tr>\n",
       "  </tbody>\n",
       "</table>\n",
       "</div>"
      ],
      "text/plain": [
       "                    Country     MEAN\n",
       "1                   Burundi  3.07900\n",
       "2  Central African Republic  3.13425\n",
       "3               Afghanistan  3.51280\n",
       "4                Madagascar  3.70800\n",
       "5                    Guinea  3.77720"
      ]
     },
     "execution_count": 5,
     "metadata": {},
     "output_type": "execute_result"
    }
   ],
   "source": [
    "df.head(5)"
   ]
  },
  {
   "cell_type": "code",
   "execution_count": 6,
   "metadata": {},
   "outputs": [
    {
     "data": {
      "text/html": [
       "<div>\n",
       "<style scoped>\n",
       "    .dataframe tbody tr th:only-of-type {\n",
       "        vertical-align: middle;\n",
       "    }\n",
       "\n",
       "    .dataframe tbody tr th {\n",
       "        vertical-align: top;\n",
       "    }\n",
       "\n",
       "    .dataframe thead th {\n",
       "        text-align: right;\n",
       "    }\n",
       "</style>\n",
       "<table border=\"1\" class=\"dataframe\">\n",
       "  <thead>\n",
       "    <tr style=\"text-align: right;\">\n",
       "      <th></th>\n",
       "      <th>Country</th>\n",
       "      <th>Happiness Score</th>\n",
       "    </tr>\n",
       "  </thead>\n",
       "  <tbody>\n",
       "    <tr>\n",
       "      <th>1</th>\n",
       "      <td>Burundi</td>\n",
       "      <td>3.07900</td>\n",
       "    </tr>\n",
       "    <tr>\n",
       "      <th>2</th>\n",
       "      <td>Central African Republic</td>\n",
       "      <td>3.13425</td>\n",
       "    </tr>\n",
       "    <tr>\n",
       "      <th>3</th>\n",
       "      <td>Afghanistan</td>\n",
       "      <td>3.51280</td>\n",
       "    </tr>\n",
       "    <tr>\n",
       "      <th>4</th>\n",
       "      <td>Madagascar</td>\n",
       "      <td>3.70800</td>\n",
       "    </tr>\n",
       "    <tr>\n",
       "      <th>5</th>\n",
       "      <td>Guinea</td>\n",
       "      <td>3.77720</td>\n",
       "    </tr>\n",
       "  </tbody>\n",
       "</table>\n",
       "</div>"
      ],
      "text/plain": [
       "                    Country  Happiness Score\n",
       "1                   Burundi          3.07900\n",
       "2  Central African Republic          3.13425\n",
       "3               Afghanistan          3.51280\n",
       "4                Madagascar          3.70800\n",
       "5                    Guinea          3.77720"
      ]
     },
     "execution_count": 6,
     "metadata": {},
     "output_type": "execute_result"
    }
   ],
   "source": [
    "df.rename(columns={\"MEAN\":\"Happiness Score\"},inplace = True)\n",
    "df.head(5)"
   ]
  },
  {
   "cell_type": "code",
   "execution_count": 7,
   "metadata": {},
   "outputs": [
    {
     "data": {
      "text/plain": [
       "<seaborn.axisgrid.FacetGrid at 0x7f90935cee50>"
      ]
     },
     "execution_count": 7,
     "metadata": {},
     "output_type": "execute_result"
    },
    {
     "data": {
      "image/png": "[encoded data removed]",
      "text/plain": [
       "<Figure size 360x360 with 1 Axes>"
      ]
     },
     "metadata": {},
     "output_type": "display_data"
    }
   ],
   "source": [
    "sns.displot(df['Happiness Score'])"
   ]
  },
  {
   "cell_type": "code",
   "execution_count": 8,
   "metadata": {},
   "outputs": [
    {
     "data": {
      "application/vnd.plotly.v1+json": {
       "config": {
        "linkText": "Export to plot.ly",
        "plotlyServerURL": "https://plot.ly",
        "showLink": false
       },
       "data": [
        {
         "colorbar": {
          "title": {
           "text": "Happiness scores"
          }
         },
         "locationmode": "country names",
         "locations": [
          "Burundi",
          "Central African Republic",
          "Afghanistan",
          "Madagascar",
          "Guinea",
          "Botswana",
          "Yemen",
          "Syria",
          "Benin",
          "Comoros",
          "Togo",
          "Lesotho",
          "Chad",
          "Uganda",
          "Tanzania",
          "Rwanda",
          "Burkina Faso",
          "Zimbabwe",
          "South Sudan",
          "Cambodia",
          "Haiti",
          "Liberia",
          "Niger",
          "Sri Lanka",
          "Congo (Kinshasa)",
          "Djibouti",
          "Egypt",
          "Congo (Brazzaville)",
          "Gabon",
          "Myanmar",
          "Ethiopia",
          "Malawi",
          "Zambia",
          "India",
          "Ivory Coast",
          "Swaziland",
          "Senegal",
          "Mozambique",
          "Bangladesh",
          "Bulgaria",
          "Iran",
          "Mali",
          "Mauritania",
          "Namibia",
          "Ghana",
          "Cameroon",
          "Kenya",
          "Albania",
          "Tajikistan",
          "Macedonia",
          "Vietnam",
          "Lebanon",
          "Ukraine",
          "Georgia",
          "South Africa",
          "Tunisia",
          "Sierra Leone",
          "Morocco",
          "Somalia",
          "Iraq",
          "Sudan",
          "Kyrgyzstan",
          "Mongolia",
          "Palestinian Territories",
          "Laos",
          "Bhutan",
          "Bosnia and Herzegovina",
          "Serbia",
          "Indonesia",
          "Pakistan",
          "Dominican Republic",
          "China",
          "Honduras",
          "Azerbaijan",
          "Nigeria",
          "Montenegro",
          "North Macedonia",
          "Turkmenistan",
          "Jordan",
          "Russia",
          "Nepal",
          "Greece",
          "South Korea",
          "Angola",
          "Turkey",
          "Croatia",
          "Hong Kong",
          "Portugal",
          "Philippines",
          "Malaysia",
          "Latvia",
          "Kazakhstan",
          "Venezuela",
          "Belarus",
          "Nicaragua",
          "Estonia",
          "Moldova",
          "Paraguay",
          "Jamaica",
          "Algeria",
          "Romania",
          "Libya",
          "Kosovo",
          "Slovenia",
          "Peru",
          "Hungary",
          "Cyprus",
          "Italy",
          "Japan",
          "Uzbekistan",
          "Bolivia",
          "Mauritius",
          "Poland",
          "Trinidad and Tobago",
          "Guatemala",
          "Thailand",
          "Belize",
          "Kuwait",
          "Spain",
          "Ecuador",
          "Saudi Arabia",
          "Slovakia",
          "Malta",
          "Bahrain",
          "Lithuania",
          "El Salvador",
          "Taiwan",
          "Armenia",
          "Suriname",
          "Qatar",
          "Colombia",
          "Uruguay",
          "Panama",
          "Germany",
          "Singapore",
          "France",
          "Mexico",
          "Chile",
          "Luxembourg",
          "Czech Republic",
          "Brazil",
          "Switzerland",
          "United Arab Emirates",
          "United Kingdom",
          "Iceland",
          "Oman",
          "United States",
          "Belgium",
          "Ireland",
          "Israel",
          "Puerto Rico",
          "New Zealand",
          "Austria",
          "Norway",
          "Costa Rica",
          "Canada",
          "Sweden",
          "Netherlands",
          "Finland",
          "Denmark",
          "North Cyprus",
          "Argentina",
          "Gambia",
          "Australia"
         ],
         "text": [
          "Burundi",
          "Central African Republic",
          "Afghanistan",
          "Madagascar",
          "Guinea",
          "Botswana",
          "Yemen",
          "Syria",
          "Benin",
          "Comoros",
          "Togo",
          "Lesotho",
          "Chad",
          "Uganda",
          "Tanzania",
          "Rwanda",
          "Burkina Faso",
          "Zimbabwe",
          "South Sudan",
          "Cambodia",
          "Haiti",
          "Liberia",
          "Niger",
          "Sri Lanka",
          "Congo (Kinshasa)",
          "Djibouti",
          "Egypt",
          "Congo (Brazzaville)",
          "Gabon",
          "Myanmar",
          "Ethiopia",
          "Malawi",
          "Zambia",
          "India",
          "Ivory Coast",
          "Swaziland",
          "Senegal",
          "Mozambique",
          "Bangladesh",
          "Bulgaria",
          "Iran",
          "Mali",
          "Mauritania",
          "Namibia",
          "Ghana",
          "Cameroon",
          "Kenya",
          "Albania",
          "Tajikistan",
          "Macedonia",
          "Vietnam",
          "Lebanon",
          "Ukraine",
          "Georgia",
          "South Africa",
          "Tunisia",
          "Sierra Leone",
          "Morocco",
          "Somalia",
          "Iraq",
          "Sudan",
          "Kyrgyzstan",
          "Mongolia",
          "Palestinian Territories",
          "Laos",
          "Bhutan",
          "Bosnia and Herzegovina",
          "Serbia",
          "Indonesia",
          "Pakistan",
          "Dominican Republic",
          "China",
          "Honduras",
          "Azerbaijan",
          "Nigeria",
          "Montenegro",
          "North Macedonia",
          "Turkmenistan",
          "Jordan",
          "Russia",
          "Nepal",
          "Greece",
          "South Korea",
          "Angola",
          "Turkey",
          "Croatia",
          "Hong Kong",
          "Portugal",
          "Philippines",
          "Malaysia",
          "Latvia",
          "Kazakhstan",
          "Venezuela",
          "Belarus",
          "Nicaragua",
          "Estonia",
          "Moldova",
          "Paraguay",
          "Jamaica",
          "Algeria",
          "Romania",
          "Libya",
          "Kosovo",
          "Slovenia",
          "Peru",
          "Hungary",
          "Cyprus",
          "Italy",
          "Japan",
          "Uzbekistan",
          "Bolivia",
          "Mauritius",
          "Poland",
          "Trinidad and Tobago",
          "Guatemala",
          "Thailand",
          "Belize",
          "Kuwait",
          "Spain",
          "Ecuador",
          "Saudi Arabia",
          "Slovakia",
          "Malta",
          "Bahrain",
          "Lithuania",
          "El Salvador",
          "Taiwan",
          "Armenia",
          "Suriname",
          "Qatar",
          "Colombia",
          "Uruguay",
          "Panama",
          "Germany",
          "Singapore",
          "France",
          "Mexico",
          "Chile",
          "Luxembourg",
          "Czech Republic",
          "Brazil",
          "Switzerland",
          "United Arab Emirates",
          "United Kingdom",
          "Iceland",
          "Oman",
          "United States",
          "Belgium",
          "Ireland",
          "Israel",
          "Puerto Rico",
          "New Zealand",
          "Austria",
          "Norway",
          "Costa Rica",
          "Canada",
          "Sweden",
          "Netherlands",
          "Finland",
          "Denmark",
          "North Cyprus",
          "Argentina",
          "Gambia",
          "Australia"
         ],
         "type": "choropleth",
         "z": [
          3.0789999939999997,
          3.13425002,
          3.5127999819999998,
          3.708000011,
          3.7771999939999996,
          3.830000006,
          3.830199987,
          3.887999979,
          3.901000013,
          3.961666667,
          3.982799977,
          4.000750022,
          4.003400022,
          4.00859997,
          4.019799995,
          4.031199991,
          4.0738000130000005,
          4.08525,
          4.14650002,
          4.205400044,
          4.249999985,
          4.253399998,
          4.302399976,
          4.326200011,
          4.346400042,
          4.369,
          4.375200027,
          4.377399978,
          4.407800031,
          4.409600015,
          4.423200008,
          4.430000006,
          4.447399988,
          4.478400011000001,
          4.516999966,
          4.5395,
          4.547399969,
          4.573750048,
          4.58019996,
          4.618600045,
          4.638999982,
          4.655000011,
          4.661999963,
          4.66674997,
          4.6765999769999995,
          4.6958000339999995,
          4.699799995,
          4.712600011,
          4.718599978,
          4.769250048,
          4.804999976,
          4.839599981,
          4.841400039,
          4.863799955,
          4.905399999,
          4.906599966,
          4.913600022,
          5.004800027,
          5.008000005,
          5.032600043,
          5.035499985,
          5.071800037,
          5.073599985,
          5.074000019,
          5.12025,
          5.124800031,
          5.1618000319999995,
          5.1737999960000005,
          5.174800017,
          5.198200011,
          5.199400004,
          5.218999953,
          5.226000047,
          5.229200041,
          5.2633999760000005,
          5.273399998,
          5.274,
          5.287200005,
          5.305399993,
          5.318199964,
          5.324599978999999,
          5.357200047,
          5.361199964,
          5.393750019,
          5.446000000000001,
          5.458600044,
          5.4908000239999994,
          5.497400034,
          5.507199966,
          5.529000022000001,
          5.561199981000001,
          5.562399953,
          5.5908,
          5.5979999529999995,
          5.63240002,
          5.6378000120000005,
          5.655599963999999,
          5.663000006,
          5.666999973999999,
          5.667600042999999,
          5.671399962000001,
          5.674200019,
          5.690399961000001,
          5.694799979,
          5.7006000310000005,
          5.704399976,
          5.732799963,
          5.756600045,
          5.775000015,
          5.7882000389999995,
          5.813199991,
          5.826000037000001,
          5.83820001,
          5.857600044,
          5.860199999,
          5.871999957000001,
          5.95599995,
          5.958200004,
          5.983599976,
          5.991999979,
          6.027999972999999,
          6.06340001,
          6.07979999,
          6.1137999789999995,
          6.12139999,
          6.124199957,
          6.148799986,
          6.158749982000001,
          6.269,
          6.336,
          6.339999975,
          6.374599999,
          6.388200027999999,
          6.467400043,
          6.508800005,
          6.515199982,
          6.5556000139999995,
          6.58939999,
          6.590999983,
          6.654600041,
          6.657800046,
          6.706399992000001,
          6.827399953,
          6.849200045,
          6.850000037,
          6.853,
          6.897400006,
          6.9213999589999995,
          6.931800047,
          6.979399964,
          7.039,
          7.076400026,
          7.142000007999999,
          7.116600036,
          7.126199999,
          7.350599997000001,
          7.353799984,
          7.381199971,
          7.537799972999999,
          7.545999967,
          7.646999986,
          7.692499993999999,
          8.856,
          7.276199984
         ]
        }
       ],
       "layout": {
        "geo": {
         "showframe": false
        },
        "template": {
         "data": {
          "bar": [
           {
            "error_x": {
             "color": "#2a3f5f"
            },
            "error_y": {
             "color": "#2a3f5f"
            },
            "marker": {
             "line": {
              "color": "#E5ECF6",
              "width": 0.5
             }
            },
            "type": "bar"
           }
          ],
          "barpolar": [
           {
            "marker": {
             "line": {
              "color": "#E5ECF6",
              "width": 0.5
             }
            },
            "type": "barpolar"
           }
          ],
          "carpet": [
           {
            "aaxis": {
             "endlinecolor": "#2a3f5f",
             "gridcolor": "white",
             "linecolor": "white",
             "minorgridcolor": "white",
             "startlinecolor": "#2a3f5f"
            },
            "baxis": {
             "endlinecolor": "#2a3f5f",
             "gridcolor": "white",
             "linecolor": "white",
             "minorgridcolor": "white",
             "startlinecolor": "#2a3f5f"
            },
            "type": "carpet"
           }
          ],
          "choropleth": [
           {
            "colorbar": {
             "outlinewidth": 0,
             "ticks": ""
            },
            "type": "choropleth"
           }
          ],
          "contour": [
           {
            "colorbar": {
             "outlinewidth": 0,
             "ticks": ""
            },
            "colorscale": [
             [
              0,
              "#0d0887"
             ],
             [
              0.1111111111111111,
              "#46039f"
             ],
             [
              0.2222222222222222,
              "#7201a8"
             ],
             [
              0.3333333333333333,
              "#9c179e"
             ],
             [
              0.4444444444444444,
              "#bd3786"
             ],
             [
              0.5555555555555556,
              "#d8576b"
             ],
             [
              0.6666666666666666,
              "#ed7953"
             ],
             [
              0.7777777777777778,
              "#fb9f3a"
             ],
             [
              0.8888888888888888,
              "#fdca26"
             ],
             [
              1,
              "#f0f921"
             ]
            ],
            "type": "contour"
           }
          ],
          "contourcarpet": [
           {
            "colorbar": {
             "outlinewidth": 0,
             "ticks": ""
            },
            "type": "contourcarpet"
           }
          ],
          "heatmap": [
           {
            "colorbar": {
             "outlinewidth": 0,
             "ticks": ""
            },
            "colorscale": [
             [
              0,
              "#0d0887"
             ],
             [
              0.1111111111111111,
              "#46039f"
             ],
             [
              0.2222222222222222,
              "#7201a8"
             ],
             [
              0.3333333333333333,
              "#9c179e"
             ],
             [
              0.4444444444444444,
              "#bd3786"
             ],
             [
              0.5555555555555556,
              "#d8576b"
             ],
             [
              0.6666666666666666,
              "#ed7953"
             ],
             [
              0.7777777777777778,
              "#fb9f3a"
             ],
             [
              0.8888888888888888,
              "#fdca26"
             ],
             [
              1,
              "#f0f921"
             ]
            ],
            "type": "heatmap"
           }
          ],
          "heatmapgl": [
           {
            "colorbar": {
             "outlinewidth": 0,
             "ticks": ""
            },
            "colorscale": [
             [
              0,
              "#0d0887"
             ],
             [
              0.1111111111111111,
              "#46039f"
             ],
             [
              0.2222222222222222,
              "#7201a8"
             ],
             [
              0.3333333333333333,
              "#9c179e"
             ],
             [
              0.4444444444444444,
              "#bd3786"
             ],
             [
              0.5555555555555556,
              "#d8576b"
             ],
             [
              0.6666666666666666,
              "#ed7953"
             ],
             [
              0.7777777777777778,
              "#fb9f3a"
             ],
             [
              0.8888888888888888,
              "#fdca26"
             ],
             [
              1,
              "#f0f921"
             ]
            ],
            "type": "heatmapgl"
           }
          ],
          "histogram": [
           {
            "marker": {
             "colorbar": {
              "outlinewidth": 0,
              "ticks": ""
             }
            },
            "type": "histogram"
           }
          ],
          "histogram2d": [
           {
            "colorbar": {
             "outlinewidth": 0,
             "ticks": ""
            },
            "colorscale": [
             [
              0,
              "#0d0887"
             ],
             [
              0.1111111111111111,
              "#46039f"
             ],
             [
              0.2222222222222222,
              "#7201a8"
             ],
             [
              0.3333333333333333,
              "#9c179e"
             ],
             [
              0.4444444444444444,
              "#bd3786"
             ],
             [
              0.5555555555555556,
              "#d8576b"
             ],
             [
              0.6666666666666666,
              "#ed7953"
             ],
             [
              0.7777777777777778,
              "#fb9f3a"
             ],
             [
              0.8888888888888888,
              "#fdca26"
             ],
             [
              1,
              "#f0f921"
             ]
            ],
            "type": "histogram2d"
           }
          ],
          "histogram2dcontour": [
           {
            "colorbar": {
             "outlinewidth": 0,
             "ticks": ""
            },
            "colorscale": [
             [
              0,
              "#0d0887"
             ],
             [
              0.1111111111111111,
              "#46039f"
             ],
             [
              0.2222222222222222,
              "#7201a8"
             ],
             [
              0.3333333333333333,
              "#9c179e"
             ],
             [
              0.4444444444444444,
              "#bd3786"
             ],
             [
              0.5555555555555556,
              "#d8576b"
             ],
             [
              0.6666666666666666,
              "#ed7953"
             ],
             [
              0.7777777777777778,
              "#fb9f3a"
             ],
             [
              0.8888888888888888,
              "#fdca26"
             ],
             [
              1,
              "#f0f921"
             ]
            ],
            "type": "histogram2dcontour"
           }
          ],
          "mesh3d": [
           {
            "colorbar": {
             "outlinewidth": 0,
             "ticks": ""
            },
            "type": "mesh3d"
           }
          ],
          "parcoords": [
           {
            "line": {
             "colorbar": {
              "outlinewidth": 0,
              "ticks": ""
             }
            },
            "type": "parcoords"
           }
          ],
          "pie": [
           {
            "automargin": true,
            "type": "pie"
           }
          ],
          "scatter": [
           {
            "marker": {
             "colorbar": {
              "outlinewidth": 0,
              "ticks": ""
             }
            },
            "type": "scatter"
           }
          ],
          "scatter3d": [
           {
            "line": {
             "colorbar": {
              "outlinewidth": 0,
              "ticks": ""
             }
            },
            "marker": {
             "colorbar": {
              "outlinewidth": 0,
              "ticks": ""
             }
            },
            "type": "scatter3d"
           }
          ],
          "scattercarpet": [
           {
            "marker": {
             "colorbar": {
              "outlinewidth": 0,
              "ticks": ""
             }
            },
            "type": "scattercarpet"
           }
          ],
          "scattergeo": [
           {
            "marker": {
             "colorbar": {
              "outlinewidth": 0,
              "ticks": ""
             }
            },
            "type": "scattergeo"
           }
          ],
          "scattergl": [
           {
            "marker": {
             "colorbar": {
              "outlinewidth": 0,
              "ticks": ""
             }
            },
            "type": "scattergl"
           }
          ],
          "scattermapbox": [
           {
            "marker": {
             "colorbar": {
              "outlinewidth": 0,
              "ticks": ""
             }
            },
            "type": "scattermapbox"
           }
          ],
          "scatterpolar": [
           {
            "marker": {
             "colorbar": {
              "outlinewidth": 0,
              "ticks": ""
             }
            },
            "type": "scatterpolar"
           }
          ],
          "scatterpolargl": [
           {
            "marker": {
             "colorbar": {
              "outlinewidth": 0,
              "ticks": ""
             }
            },
            "type": "scatterpolargl"
           }
          ],
          "scatterternary": [
           {
            "marker": {
             "colorbar": {
              "outlinewidth": 0,
              "ticks": ""
             }
            },
            "type": "scatterternary"
           }
          ],
          "surface": [
           {
            "colorbar": {
             "outlinewidth": 0,
             "ticks": ""
            },
            "colorscale": [
             [
              0,
              "#0d0887"
             ],
             [
              0.1111111111111111,
              "#46039f"
             ],
             [
              0.2222222222222222,
              "#7201a8"
             ],
             [
              0.3333333333333333,
              "#9c179e"
             ],
             [
              0.4444444444444444,
              "#bd3786"
             ],
             [
              0.5555555555555556,
              "#d8576b"
             ],
             [
              0.6666666666666666,
              "#ed7953"
             ],
             [
              0.7777777777777778,
              "#fb9f3a"
             ],
             [
              0.8888888888888888,
              "#fdca26"
             ],
             [
              1,
              "#f0f921"
             ]
            ],
            "type": "surface"
           }
          ],
          "table": [
           {
            "cells": {
             "fill": {
              "color": "#EBF0F8"
             },
             "line": {
              "color": "white"
             }
            },
            "header": {
             "fill": {
              "color": "#C8D4E3"
             },
             "line": {
              "color": "white"
             }
            },
            "type": "table"
           }
          ]
         },
         "layout": {
          "annotationdefaults": {
           "arrowcolor": "#2a3f5f",
           "arrowhead": 0,
           "arrowwidth": 1
          },
          "autotypenumbers": "strict",
          "coloraxis": {
           "colorbar": {
            "outlinewidth": 0,
            "ticks": ""
           }
          },
          "colorscale": {
           "diverging": [
            [
             0,
             "#8e0152"
            ],
            [
             0.1,
             "#c51b7d"
            ],
            [
             0.2,
             "#de77ae"
            ],
            [
             0.3,
             "#f1b6da"
            ],
            [
             0.4,
             "#fde0ef"
            ],
            [
             0.5,
             "#f7f7f7"
            ],
            [
             0.6,
             "#e6f5d0"
            ],
            [
             0.7,
             "#b8e186"
            ],
            [
             0.8,
             "#7fbc41"
            ],
            [
             0.9,
             "#4d9221"
            ],
            [
             1,
             "#276419"
            ]
           ],
           "sequential": [
            [
             0,
             "#0d0887"
            ],
            [
             0.1111111111111111,
             "#46039f"
            ],
            [
             0.2222222222222222,
             "#7201a8"
            ],
            [
             0.3333333333333333,
             "#9c179e"
            ],
            [
             0.4444444444444444,
             "#bd3786"
            ],
            [
             0.5555555555555556,
             "#d8576b"
            ],
            [
             0.6666666666666666,
             "#ed7953"
            ],
            [
             0.7777777777777778,
             "#fb9f3a"
            ],
            [
             0.8888888888888888,
             "#fdca26"
            ],
            [
             1,
             "#f0f921"
            ]
           ],
           "sequentialminus": [
            [
             0,
             "#0d0887"
            ],
            [
             0.1111111111111111,
             "#46039f"
            ],
            [
             0.2222222222222222,
             "#7201a8"
            ],
            [
             0.3333333333333333,
             "#9c179e"
            ],
            [
             0.4444444444444444,
             "#bd3786"
            ],
            [
             0.5555555555555556,
             "#d8576b"
            ],
            [
             0.6666666666666666,
             "#ed7953"
            ],
            [
             0.7777777777777778,
             "#fb9f3a"
            ],
            [
             0.8888888888888888,
             "#fdca26"
            ],
            [
             1,
             "#f0f921"
            ]
           ]
          },
          "colorway": [
           "#636efa",
           "#EF553B",
           "#00cc96",
           "#ab63fa",
           "#FFA15A",
           "#19d3f3",
           "#FF6692",
           "#B6E880",
           "#FF97FF",
           "#FECB52"
          ],
          "font": {
           "color": "#2a3f5f"
          },
          "geo": {
           "bgcolor": "white",
           "lakecolor": "white",
           "landcolor": "#E5ECF6",
           "showlakes": true,
           "showland": true,
           "subunitcolor": "white"
          },
          "hoverlabel": {
           "align": "left"
          },
          "hovermode": "closest",
          "mapbox": {
           "style": "light"
          },
          "paper_bgcolor": "white",
          "plot_bgcolor": "#E5ECF6",
          "polar": {
           "angularaxis": {
            "gridcolor": "white",
            "linecolor": "white",
            "ticks": ""
           },
           "bgcolor": "#E5ECF6",
           "radialaxis": {
            "gridcolor": "white",
            "linecolor": "white",
            "ticks": ""
           }
          },
          "scene": {
           "xaxis": {
            "backgroundcolor": "#E5ECF6",
            "gridcolor": "white",
            "gridwidth": 2,
            "linecolor": "white",
            "showbackground": true,
            "ticks": "",
            "zerolinecolor": "white"
           },
           "yaxis": {
            "backgroundcolor": "#E5ECF6",
            "gridcolor": "white",
            "gridwidth": 2,
            "linecolor": "white",
            "showbackground": true,
            "ticks": "",
            "zerolinecolor": "white"
           },
           "zaxis": {
            "backgroundcolor": "#E5ECF6",
            "gridcolor": "white",
            "gridwidth": 2,
            "linecolor": "white",
            "showbackground": true,
            "ticks": "",
            "zerolinecolor": "white"
           }
          },
          "shapedefaults": {
           "line": {
            "color": "#2a3f5f"
           }
          },
          "ternary": {
           "aaxis": {
            "gridcolor": "white",
            "linecolor": "white",
            "ticks": ""
           },
           "baxis": {
            "gridcolor": "white",
            "linecolor": "white",
            "ticks": ""
           },
           "bgcolor": "#E5ECF6",
           "caxis": {
            "gridcolor": "white",
            "linecolor": "white",
            "ticks": ""
           }
          },
          "title": {
           "x": 0.05
          },
          "xaxis": {
           "automargin": true,
           "gridcolor": "white",
           "linecolor": "white",
           "ticks": "",
           "title": {
            "standoff": 15
           },
           "zerolinecolor": "white",
           "zerolinewidth": 2
          },
          "yaxis": {
           "automargin": true,
           "gridcolor": "white",
           "linecolor": "white",
           "ticks": "",
           "title": {
            "standoff": 15
           },
           "zerolinecolor": "white",
           "zerolinewidth": 2
          }
         }
        },
        "title": {
         "text": "Global Happiness"
        }
       }
      },
      "text/html": [
       "<div>                            <div id=\"1cf456a6-d3aa-448b-ac9d-00585a7bfe19\" class=\"plotly-graph-div\" style=\"height:525px; width:100%;\"></div>            <script type=\"text/javascript\">                require([\"plotly\"], function(Plotly) {                    window.PLOTLYENV=window.PLOTLYENV || {};                                    if (document.getElementById(\"1cf456a6-d3aa-448b-ac9d-00585a7bfe19\")) {                    Plotly.newPlot(                        \"1cf456a6-d3aa-448b-ac9d-00585a7bfe19\",                        [{\"colorbar\": {\"title\": {\"text\": \"Happiness scores\"}}, \"locationmode\": \"country names\", \"locations\": [\"Burundi\", \"Central African Republic\", \"Afghanistan\", \"Madagascar\", \"Guinea\", \"Botswana\", \"Yemen\", \"Syria\", \"Benin\", \"Comoros\", \"Togo\", \"Lesotho\", \"Chad\", \"Uganda\", \"Tanzania\", \"Rwanda\", \"Burkina Faso\", \"Zimbabwe\", \"South Sudan\", \"Cambodia\", \"Haiti\", \"Liberia\", \"Niger\", \"Sri Lanka\", \"Congo (Kinshasa)\", \"Djibouti\", \"Egypt\", \"Congo (Brazzaville)\", \"Gabon\", \"Myanmar\", \"Ethiopia\", \"Malawi\", \"Zambia\", \"India\", \"Ivory Coast\", \"Swaziland\", \"Senegal\", \"Mozambique\", \"Bangladesh\", \"Bulgaria\", \"Iran\", \"Mali\", \"Mauritania\", \"Namibia\", \"Ghana\", \"Cameroon\", \"Kenya\", \"Albania\", \"Tajikistan\", \"Macedonia\", \"Vietnam\", \"Lebanon\", \"Ukraine\", \"Georgia\", \"South Africa\", \"Tunisia\", \"Sierra Leone\", \"Morocco\", \"Somalia\", \"Iraq\", \"Sudan\", \"Kyrgyzstan\", \"Mongolia\", \"Palestinian Territories\", \"Laos\", \"Bhutan\", \"Bosnia and Herzegovina\", \"Serbia\", \"Indonesia\", \"Pakistan\", \"Dominican Republic\", \"China\", \"Honduras\", \"Azerbaijan\", \"Nigeria\", \"Montenegro\", \"North Macedonia\", \"Turkmenistan\", \"Jordan\", \"Russia\", \"Nepal\", \"Greece\", \"South Korea\", \"Angola\", \"Turkey\", \"Croatia\", \"Hong Kong\", \"Portugal\", \"Philippines\", \"Malaysia\", \"Latvia\", \"Kazakhstan\", \"Venezuela\", \"Belarus\", \"Nicaragua\", \"Estonia\", \"Moldova\", \"Paraguay\", \"Jamaica\", \"Algeria\", \"Romania\", \"Libya\", \"Kosovo\", \"Slovenia\", \"Peru\", \"Hungary\", \"Cyprus\", \"Italy\", \"Japan\", \"Uzbekistan\", \"Bolivia\", \"Mauritius\", \"Poland\", \"Trinidad and Tobago\", \"Guatemala\", \"Thailand\", \"Belize\", \"Kuwait\", \"Spain\", \"Ecuador\", \"Saudi Arabia\", \"Slovakia\", \"Malta\", \"Bahrain\", \"Lithuania\", \"El Salvador\", \"Taiwan\", \"Armenia\", \"Suriname\", \"Qatar\", \"Colombia\", \"Uruguay\", \"Panama\", \"Germany\", \"Singapore\", \"France\", \"Mexico\", \"Chile\", \"Luxembourg\", \"Czech Republic\", \"Brazil\", \"Switzerland\", \"United Arab Emirates\", \"United Kingdom\", \"Iceland\", \"Oman\", \"United States\", \"Belgium\", \"Ireland\", \"Israel\", \"Puerto Rico\", \"New Zealand\", \"Austria\", \"Norway\", \"Costa Rica\", \"Canada\", \"Sweden\", \"Netherlands\", \"Finland\", \"Denmark\", \"North Cyprus\", \"Argentina\", \"Gambia\", \"Australia\"], \"text\": [\"Burundi\", \"Central African Republic\", \"Afghanistan\", \"Madagascar\", \"Guinea\", \"Botswana\", \"Yemen\", \"Syria\", \"Benin\", \"Comoros\", \"Togo\", \"Lesotho\", \"Chad\", \"Uganda\", \"Tanzania\", \"Rwanda\", \"Burkina Faso\", \"Zimbabwe\", \"South Sudan\", \"Cambodia\", \"Haiti\", \"Liberia\", \"Niger\", \"Sri Lanka\", \"Congo (Kinshasa)\", \"Djibouti\", \"Egypt\", \"Congo (Brazzaville)\", \"Gabon\", \"Myanmar\", \"Ethiopia\", \"Malawi\", \"Zambia\", \"India\", \"Ivory Coast\", \"Swaziland\", \"Senegal\", \"Mozambique\", \"Bangladesh\", \"Bulgaria\", \"Iran\", \"Mali\", \"Mauritania\", \"Namibia\", \"Ghana\", \"Cameroon\", \"Kenya\", \"Albania\", \"Tajikistan\", \"Macedonia\", \"Vietnam\", \"Lebanon\", \"Ukraine\", \"Georgia\", \"South Africa\", \"Tunisia\", \"Sierra Leone\", \"Morocco\", \"Somalia\", \"Iraq\", \"Sudan\", \"Kyrgyzstan\", \"Mongolia\", \"Palestinian Territories\", \"Laos\", \"Bhutan\", \"Bosnia and Herzegovina\", \"Serbia\", \"Indonesia\", \"Pakistan\", \"Dominican Republic\", \"China\", \"Honduras\", \"Azerbaijan\", \"Nigeria\", \"Montenegro\", \"North Macedonia\", \"Turkmenistan\", \"Jordan\", \"Russia\", \"Nepal\", \"Greece\", \"South Korea\", \"Angola\", \"Turkey\", \"Croatia\", \"Hong Kong\", \"Portugal\", \"Philippines\", \"Malaysia\", \"Latvia\", \"Kazakhstan\", \"Venezuela\", \"Belarus\", \"Nicaragua\", \"Estonia\", \"Moldova\", \"Paraguay\", \"Jamaica\", \"Algeria\", \"Romania\", \"Libya\", \"Kosovo\", \"Slovenia\", \"Peru\", \"Hungary\", \"Cyprus\", \"Italy\", \"Japan\", \"Uzbekistan\", \"Bolivia\", \"Mauritius\", \"Poland\", \"Trinidad and Tobago\", \"Guatemala\", \"Thailand\", \"Belize\", \"Kuwait\", \"Spain\", \"Ecuador\", \"Saudi Arabia\", \"Slovakia\", \"Malta\", \"Bahrain\", \"Lithuania\", \"El Salvador\", \"Taiwan\", \"Armenia\", \"Suriname\", \"Qatar\", \"Colombia\", \"Uruguay\", \"Panama\", \"Germany\", \"Singapore\", \"France\", \"Mexico\", \"Chile\", \"Luxembourg\", \"Czech Republic\", \"Brazil\", \"Switzerland\", \"United Arab Emirates\", \"United Kingdom\", \"Iceland\", \"Oman\", \"United States\", \"Belgium\", \"Ireland\", \"Israel\", \"Puerto Rico\", \"New Zealand\", \"Austria\", \"Norway\", \"Costa Rica\", \"Canada\", \"Sweden\", \"Netherlands\", \"Finland\", \"Denmark\", \"North Cyprus\", \"Argentina\", \"Gambia\", \"Australia\"], \"type\": \"choropleth\", \"z\": [3.0789999939999997, 3.13425002, 3.5127999819999998, 3.708000011, 3.7771999939999996, 3.830000006, 3.830199987, 3.887999979, 3.901000013, 3.961666667, 3.982799977, 4.000750022, 4.003400022, 4.00859997, 4.019799995, 4.031199991, 4.0738000130000005, 4.08525, 4.14650002, 4.205400044, 4.249999985, 4.253399998, 4.302399976, 4.326200011, 4.346400042, 4.369, 4.375200027, 4.377399978, 4.407800031, 4.409600015, 4.423200008, 4.430000006, 4.447399988, 4.478400011000001, 4.516999966, 4.5395, 4.547399969, 4.573750048, 4.58019996, 4.618600045, 4.638999982, 4.655000011, 4.661999963, 4.66674997, 4.6765999769999995, 4.6958000339999995, 4.699799995, 4.712600011, 4.718599978, 4.769250048, 4.804999976, 4.839599981, 4.841400039, 4.863799955, 4.905399999, 4.906599966, 4.913600022, 5.004800027, 5.008000005, 5.032600043, 5.035499985, 5.071800037, 5.073599985, 5.074000019, 5.12025, 5.124800031, 5.1618000319999995, 5.1737999960000005, 5.174800017, 5.198200011, 5.199400004, 5.218999953, 5.226000047, 5.229200041, 5.2633999760000005, 5.273399998, 5.274, 5.287200005, 5.305399993, 5.318199964, 5.324599978999999, 5.357200047, 5.361199964, 5.393750019, 5.446000000000001, 5.458600044, 5.4908000239999994, 5.497400034, 5.507199966, 5.529000022000001, 5.561199981000001, 5.562399953, 5.5908, 5.5979999529999995, 5.63240002, 5.6378000120000005, 5.655599963999999, 5.663000006, 5.666999973999999, 5.667600042999999, 5.671399962000001, 5.674200019, 5.690399961000001, 5.694799979, 5.7006000310000005, 5.704399976, 5.732799963, 5.756600045, 5.775000015, 5.7882000389999995, 5.813199991, 5.826000037000001, 5.83820001, 5.857600044, 5.860199999, 5.871999957000001, 5.95599995, 5.958200004, 5.983599976, 5.991999979, 6.027999972999999, 6.06340001, 6.07979999, 6.1137999789999995, 6.12139999, 6.124199957, 6.148799986, 6.158749982000001, 6.269, 6.336, 6.339999975, 6.374599999, 6.388200027999999, 6.467400043, 6.508800005, 6.515199982, 6.5556000139999995, 6.58939999, 6.590999983, 6.654600041, 6.657800046, 6.706399992000001, 6.827399953, 6.849200045, 6.850000037, 6.853, 6.897400006, 6.9213999589999995, 6.931800047, 6.979399964, 7.039, 7.076400026, 7.142000007999999, 7.116600036, 7.126199999, 7.350599997000001, 7.353799984, 7.381199971, 7.537799972999999, 7.545999967, 7.646999986, 7.692499993999999, 8.856, 7.276199984]}],                        {\"geo\": {\"showframe\": false}, \"template\": {\"data\": {\"bar\": [{\"error_x\": {\"color\": \"#2a3f5f\"}, \"error_y\": {\"color\": \"#2a3f5f\"}, \"marker\": {\"line\": {\"color\": \"#E5ECF6\", \"width\": 0.5}}, \"type\": \"bar\"}], \"barpolar\": [{\"marker\": {\"line\": {\"color\": \"#E5ECF6\", \"width\": 0.5}}, \"type\": \"barpolar\"}], \"carpet\": [{\"aaxis\": {\"endlinecolor\": \"#2a3f5f\", \"gridcolor\": \"white\", \"linecolor\": \"white\", \"minorgridcolor\": \"white\", \"startlinecolor\": \"#2a3f5f\"}, \"baxis\": {\"endlinecolor\": \"#2a3f5f\", \"gridcolor\": \"white\", \"linecolor\": \"white\", \"minorgridcolor\": \"white\", \"startlinecolor\": \"#2a3f5f\"}, \"type\": \"carpet\"}], \"choropleth\": [{\"colorbar\": {\"outlinewidth\": 0, \"ticks\": \"\"}, \"type\": \"choropleth\"}], \"contour\": [{\"colorbar\": {\"outlinewidth\": 0, \"ticks\": \"\"}, \"colorscale\": [[0.0, \"#0d0887\"], [0.1111111111111111, \"#46039f\"], [0.2222222222222222, \"#7201a8\"], [0.3333333333333333, \"#9c179e\"], [0.4444444444444444, \"#bd3786\"], [0.5555555555555556, \"#d8576b\"], [0.6666666666666666, \"#ed7953\"], [0.7777777777777778, \"#fb9f3a\"], [0.8888888888888888, \"#fdca26\"], [1.0, \"#f0f921\"]], \"type\": \"contour\"}], \"contourcarpet\": [{\"colorbar\": {\"outlinewidth\": 0, \"ticks\": \"\"}, \"type\": \"contourcarpet\"}], \"heatmap\": [{\"colorbar\": {\"outlinewidth\": 0, \"ticks\": \"\"}, \"colorscale\": [[0.0, \"#0d0887\"], [0.1111111111111111, \"#46039f\"], [0.2222222222222222, \"#7201a8\"], [0.3333333333333333, \"#9c179e\"], [0.4444444444444444, \"#bd3786\"], [0.5555555555555556, \"#d8576b\"], [0.6666666666666666, \"#ed7953\"], [0.7777777777777778, \"#fb9f3a\"], [0.8888888888888888, \"#fdca26\"], [1.0, \"#f0f921\"]], \"type\": \"heatmap\"}], \"heatmapgl\": [{\"colorbar\": {\"outlinewidth\": 0, \"ticks\": \"\"}, \"colorscale\": [[0.0, \"#0d0887\"], [0.1111111111111111, \"#46039f\"], [0.2222222222222222, \"#7201a8\"], [0.3333333333333333, \"#9c179e\"], [0.4444444444444444, \"#bd3786\"], [0.5555555555555556, \"#d8576b\"], [0.6666666666666666, \"#ed7953\"], [0.7777777777777778, \"#fb9f3a\"], [0.8888888888888888, \"#fdca26\"], [1.0, \"#f0f921\"]], \"type\": \"heatmapgl\"}], \"histogram\": [{\"marker\": {\"colorbar\": {\"outlinewidth\": 0, \"ticks\": \"\"}}, \"type\": \"histogram\"}], \"histogram2d\": [{\"colorbar\": {\"outlinewidth\": 0, \"ticks\": \"\"}, \"colorscale\": [[0.0, \"#0d0887\"], [0.1111111111111111, \"#46039f\"], [0.2222222222222222, \"#7201a8\"], [0.3333333333333333, \"#9c179e\"], [0.4444444444444444, \"#bd3786\"], [0.5555555555555556, \"#d8576b\"], [0.6666666666666666, \"#ed7953\"], [0.7777777777777778, \"#fb9f3a\"], [0.8888888888888888, \"#fdca26\"], [1.0, \"#f0f921\"]], \"type\": \"histogram2d\"}], \"histogram2dcontour\": [{\"colorbar\": {\"outlinewidth\": 0, \"ticks\": \"\"}, \"colorscale\": [[0.0, \"#0d0887\"], [0.1111111111111111, \"#46039f\"], [0.2222222222222222, \"#7201a8\"], [0.3333333333333333, \"#9c179e\"], [0.4444444444444444, \"#bd3786\"], [0.5555555555555556, \"#d8576b\"], [0.6666666666666666, \"#ed7953\"], [0.7777777777777778, \"#fb9f3a\"], [0.8888888888888888, \"#fdca26\"], [1.0, \"#f0f921\"]], \"type\": \"histogram2dcontour\"}], \"mesh3d\": [{\"colorbar\": {\"outlinewidth\": 0, \"ticks\": \"\"}, \"type\": \"mesh3d\"}], \"parcoords\": [{\"line\": {\"colorbar\": {\"outlinewidth\": 0, \"ticks\": \"\"}}, \"type\": \"parcoords\"}], \"pie\": [{\"automargin\": true, \"type\": \"pie\"}], \"scatter\": [{\"marker\": {\"colorbar\": {\"outlinewidth\": 0, \"ticks\": \"\"}}, \"type\": \"scatter\"}], \"scatter3d\": [{\"line\": {\"colorbar\": {\"outlinewidth\": 0, \"ticks\": \"\"}}, \"marker\": {\"colorbar\": {\"outlinewidth\": 0, \"ticks\": \"\"}}, \"type\": \"scatter3d\"}], \"scattercarpet\": [{\"marker\": {\"colorbar\": {\"outlinewidth\": 0, \"ticks\": \"\"}}, \"type\": \"scattercarpet\"}], \"scattergeo\": [{\"marker\": {\"colorbar\": {\"outlinewidth\": 0, \"ticks\": \"\"}}, \"type\": \"scattergeo\"}], \"scattergl\": [{\"marker\": {\"colorbar\": {\"outlinewidth\": 0, \"ticks\": \"\"}}, \"type\": \"scattergl\"}], \"scattermapbox\": [{\"marker\": {\"colorbar\": {\"outlinewidth\": 0, \"ticks\": \"\"}}, \"type\": \"scattermapbox\"}], \"scatterpolar\": [{\"marker\": {\"colorbar\": {\"outlinewidth\": 0, \"ticks\": \"\"}}, \"type\": \"scatterpolar\"}], \"scatterpolargl\": [{\"marker\": {\"colorbar\": {\"outlinewidth\": 0, \"ticks\": \"\"}}, \"type\": \"scatterpolargl\"}], \"scatterternary\": [{\"marker\": {\"colorbar\": {\"outlinewidth\": 0, \"ticks\": \"\"}}, \"type\": \"scatterternary\"}], \"surface\": [{\"colorbar\": {\"outlinewidth\": 0, \"ticks\": \"\"}, \"colorscale\": [[0.0, \"#0d0887\"], [0.1111111111111111, \"#46039f\"], [0.2222222222222222, \"#7201a8\"], [0.3333333333333333, \"#9c179e\"], [0.4444444444444444, \"#bd3786\"], [0.5555555555555556, \"#d8576b\"], [0.6666666666666666, \"#ed7953\"], [0.7777777777777778, \"#fb9f3a\"], [0.8888888888888888, \"#fdca26\"], [1.0, \"#f0f921\"]], \"type\": \"surface\"}], \"table\": [{\"cells\": {\"fill\": {\"color\": \"#EBF0F8\"}, \"line\": {\"color\": \"white\"}}, \"header\": {\"fill\": {\"color\": \"#C8D4E3\"}, \"line\": {\"color\": \"white\"}}, \"type\": \"table\"}]}, \"layout\": {\"annotationdefaults\": {\"arrowcolor\": \"#2a3f5f\", \"arrowhead\": 0, \"arrowwidth\": 1}, \"autotypenumbers\": \"strict\", \"coloraxis\": {\"colorbar\": {\"outlinewidth\": 0, \"ticks\": \"\"}}, \"colorscale\": {\"diverging\": [[0, \"#8e0152\"], [0.1, \"#c51b7d\"], [0.2, \"#de77ae\"], [0.3, \"#f1b6da\"], [0.4, \"#fde0ef\"], [0.5, \"#f7f7f7\"], [0.6, \"#e6f5d0\"], [0.7, \"#b8e186\"], [0.8, \"#7fbc41\"], [0.9, \"#4d9221\"], [1, \"#276419\"]], \"sequential\": [[0.0, \"#0d0887\"], [0.1111111111111111, \"#46039f\"], [0.2222222222222222, \"#7201a8\"], [0.3333333333333333, \"#9c179e\"], [0.4444444444444444, \"#bd3786\"], [0.5555555555555556, \"#d8576b\"], [0.6666666666666666, \"#ed7953\"], [0.7777777777777778, \"#fb9f3a\"], [0.8888888888888888, \"#fdca26\"], [1.0, \"#f0f921\"]], \"sequentialminus\": [[0.0, \"#0d0887\"], [0.1111111111111111, \"#46039f\"], [0.2222222222222222, \"#7201a8\"], [0.3333333333333333, \"#9c179e\"], [0.4444444444444444, \"#bd3786\"], [0.5555555555555556, \"#d8576b\"], [0.6666666666666666, \"#ed7953\"], [0.7777777777777778, \"#fb9f3a\"], [0.8888888888888888, \"#fdca26\"], [1.0, \"#f0f921\"]]}, \"colorway\": [\"#636efa\", \"#EF553B\", \"#00cc96\", \"#ab63fa\", \"#FFA15A\", \"#19d3f3\", \"#FF6692\", \"#B6E880\", \"#FF97FF\", \"#FECB52\"], \"font\": {\"color\": \"#2a3f5f\"}, \"geo\": {\"bgcolor\": \"white\", \"lakecolor\": \"white\", \"landcolor\": \"#E5ECF6\", \"showlakes\": true, \"showland\": true, \"subunitcolor\": \"white\"}, \"hoverlabel\": {\"align\": \"left\"}, \"hovermode\": \"closest\", \"mapbox\": {\"style\": \"light\"}, \"paper_bgcolor\": \"white\", \"plot_bgcolor\": \"#E5ECF6\", \"polar\": {\"angularaxis\": {\"gridcolor\": \"white\", \"linecolor\": \"white\", \"ticks\": \"\"}, \"bgcolor\": \"#E5ECF6\", \"radialaxis\": {\"gridcolor\": \"white\", \"linecolor\": \"white\", \"ticks\": \"\"}}, \"scene\": {\"xaxis\": {\"backgroundcolor\": \"#E5ECF6\", \"gridcolor\": \"white\", \"gridwidth\": 2, \"linecolor\": \"white\", \"showbackground\": true, \"ticks\": \"\", \"zerolinecolor\": \"white\"}, \"yaxis\": {\"backgroundcolor\": \"#E5ECF6\", \"gridcolor\": \"white\", \"gridwidth\": 2, \"linecolor\": \"white\", \"showbackground\": true, \"ticks\": \"\", \"zerolinecolor\": \"white\"}, \"zaxis\": {\"backgroundcolor\": \"#E5ECF6\", \"gridcolor\": \"white\", \"gridwidth\": 2, \"linecolor\": \"white\", \"showbackground\": true, \"ticks\": \"\", \"zerolinecolor\": \"white\"}}, \"shapedefaults\": {\"line\": {\"color\": \"#2a3f5f\"}}, \"ternary\": {\"aaxis\": {\"gridcolor\": \"white\", \"linecolor\": \"white\", \"ticks\": \"\"}, \"baxis\": {\"gridcolor\": \"white\", \"linecolor\": \"white\", \"ticks\": \"\"}, \"bgcolor\": \"#E5ECF6\", \"caxis\": {\"gridcolor\": \"white\", \"linecolor\": \"white\", \"ticks\": \"\"}}, \"title\": {\"x\": 0.05}, \"xaxis\": {\"automargin\": true, \"gridcolor\": \"white\", \"linecolor\": \"white\", \"ticks\": \"\", \"title\": {\"standoff\": 15}, \"zerolinecolor\": \"white\", \"zerolinewidth\": 2}, \"yaxis\": {\"automargin\": true, \"gridcolor\": \"white\", \"linecolor\": \"white\", \"ticks\": \"\", \"title\": {\"standoff\": 15}, \"zerolinecolor\": \"white\", \"zerolinewidth\": 2}}}, \"title\": {\"text\": \"Global Happiness\"}},                        {\"responsive\": true}                    ).then(function(){\n",
       "                            \n",
       "var gd = document.getElementById('1cf456a6-d3aa-448b-ac9d-00585a7bfe19');\n",
       "var x = new MutationObserver(function (mutations, observer) {{\n",
       "        var display = window.getComputedStyle(gd).display;\n",
       "        if (!display || display === 'none') {{\n",
       "            console.log([gd, 'removed!']);\n",
       "            Plotly.purge(gd);\n",
       "            observer.disconnect();\n",
       "        }}\n",
       "}});\n",
       "\n",
       "// Listen for the removal of the full notebook cells\n",
       "var notebookContainer = gd.closest('#notebook-container');\n",
       "if (notebookContainer) {{\n",
       "    x.observe(notebookContainer, {childList: true});\n",
       "}}\n",
       "\n",
       "// Listen for the clearing of the current output cell\n",
       "var outputEl = gd.closest('.output');\n",
       "if (outputEl) {{\n",
       "    x.observe(outputEl, {childList: true});\n",
       "}}\n",
       "\n",
       "                        })                };                });            </script>        </div>"
      ]
     },
     "metadata": {},
     "output_type": "display_data"
    }
   ],
   "source": [
    "data = dict(type = 'choropleth', locations=df['Country'], locationmode='country names', z=df['Happiness Score'], \n",
    "            text=df['Country'], colorbar={'title':'Happiness scores'})\n",
    "layout = dict(title = 'Global Happiness', geo=dict(showframe = False))\n",
    "choromap3 = go.Figure(data=[data], layout=layout)\n",
    "iplot(choromap3)"
   ]
  },
  {
   "cell_type": "code",
   "execution_count": 37,
   "metadata": {},
   "outputs": [
    {
     "data": {
      "application/vnd.plotly.v1+json": {
       "config": {
        "plotlyServerURL": "https://plot.ly"
       },
       "data": [
        {
         "autocolorscale": false,
         "colorbar": {
          "title": {
           "text": "Happiness Score"
          }
         },
         "colorscale": [
          [
           0,
           "rgb(103,0,31)"
          ],
          [
           0.1,
           "rgb(178,24,43)"
          ],
          [
           0.2,
           "rgb(214,96,77)"
          ],
          [
           0.3,
           "rgb(244,165,130)"
          ],
          [
           0.4,
           "rgb(253,219,199)"
          ],
          [
           0.5,
           "rgb(247,247,247)"
          ],
          [
           0.6,
           "rgb(209,229,240)"
          ],
          [
           0.7,
           "rgb(146,197,222)"
          ],
          [
           0.8,
           "rgb(67,147,195)"
          ],
          [
           0.9,
           "rgb(33,102,172)"
          ],
          [
           1,
           "rgb(5,48,97)"
          ]
         ],
         "locationmode": "country names",
         "locations": [
          "Burundi",
          "Central African Republic",
          "Afghanistan",
          "Madagascar",
          "Guinea",
          "Botswana",
          "Yemen",
          "Syria",
          "Benin",
          "Comoros",
          "Togo",
          "Lesotho",
          "Chad",
          "Uganda",
          "Tanzania",
          "Rwanda",
          "Burkina Faso",
          "Zimbabwe",
          "South Sudan",
          "Cambodia",
          "Haiti",
          "Liberia",
          "Niger",
          "Sri Lanka",
          "Congo (Kinshasa)",
          "Djibouti",
          "Egypt",
          "Congo (Brazzaville)",
          "Gabon",
          "Myanmar",
          "Ethiopia",
          "Malawi",
          "Zambia",
          "India",
          "Ivory Coast",
          "Swaziland",
          "Senegal",
          "Mozambique",
          "Bangladesh",
          "Bulgaria",
          "Iran",
          "Mali",
          "Mauritania",
          "Namibia",
          "Ghana",
          "Cameroon",
          "Kenya",
          "Albania",
          "Tajikistan",
          "Macedonia",
          "Vietnam",
          "Lebanon",
          "Ukraine",
          "Georgia",
          "South Africa",
          "Tunisia",
          "Sierra Leone",
          "Morocco",
          "Somalia",
          "Iraq",
          "Sudan",
          "Kyrgyzstan",
          "Mongolia",
          "Palestinian Territories",
          "Laos",
          "Bhutan",
          "Bosnia and Herzegovina",
          "Serbia",
          "Indonesia",
          "Pakistan",
          "Dominican Republic",
          "China",
          "Honduras",
          "Azerbaijan",
          "Nigeria",
          "Montenegro",
          "North Macedonia",
          "Turkmenistan",
          "Jordan",
          "Russia",
          "Nepal",
          "Greece",
          "South Korea",
          "Angola",
          "Turkey",
          "Croatia",
          "Hong Kong",
          "Portugal",
          "Philippines",
          "Malaysia",
          "Latvia",
          "Kazakhstan",
          "Venezuela",
          "Belarus",
          "Nicaragua",
          "Estonia",
          "Moldova",
          "Paraguay",
          "Jamaica",
          "Algeria",
          "Romania",
          "Libya",
          "Kosovo",
          "Slovenia",
          "Peru",
          "Hungary",
          "Cyprus",
          "Italy",
          "Japan",
          "Uzbekistan",
          "Bolivia",
          "Mauritius",
          "Poland",
          "Trinidad and Tobago",
          "Guatemala",
          "Thailand",
          "Belize",
          "Kuwait",
          "Spain",
          "Ecuador",
          "Saudi Arabia",
          "Slovakia",
          "Malta",
          "Bahrain",
          "Lithuania",
          "El Salvador",
          "Taiwan",
          "Armenia",
          "Suriname",
          "Qatar",
          "Colombia",
          "Uruguay",
          "Panama",
          "Germany",
          "Singapore",
          "France",
          "Mexico",
          "Chile",
          "Luxembourg",
          "Czech Republic",
          "Brazil",
          "Switzerland",
          "United Arab Emirates",
          "United Kingdom",
          "Iceland",
          "Oman",
          "United States",
          "Belgium",
          "Ireland",
          "Israel",
          "Puerto Rico",
          "New Zealand",
          "Austria",
          "Norway",
          "Costa Rica",
          "Canada",
          "Sweden",
          "Netherlands",
          "Finland",
          "Denmark",
          "North Cyprus",
          "Argentina",
          "Gambia",
          "Australia"
         ],
         "marker": {
          "line": {
           "color": "darkgray",
           "width": 0.1
          }
         },
         "text": [
          "Burundi",
          "Central African Republic",
          "Afghanistan",
          "Madagascar",
          "Guinea",
          "Botswana",
          "Yemen",
          "Syria",
          "Benin",
          "Comoros",
          "Togo",
          "Lesotho",
          "Chad",
          "Uganda",
          "Tanzania",
          "Rwanda",
          "Burkina Faso",
          "Zimbabwe",
          "South Sudan",
          "Cambodia",
          "Haiti",
          "Liberia",
          "Niger",
          "Sri Lanka",
          "Congo (Kinshasa)",
          "Djibouti",
          "Egypt",
          "Congo (Brazzaville)",
          "Gabon",
          "Myanmar",
          "Ethiopia",
          "Malawi",
          "Zambia",
          "India",
          "Ivory Coast",
          "Swaziland",
          "Senegal",
          "Mozambique",
          "Bangladesh",
          "Bulgaria",
          "Iran",
          "Mali",
          "Mauritania",
          "Namibia",
          "Ghana",
          "Cameroon",
          "Kenya",
          "Albania",
          "Tajikistan",
          "Macedonia",
          "Vietnam",
          "Lebanon",
          "Ukraine",
          "Georgia",
          "South Africa",
          "Tunisia",
          "Sierra Leone",
          "Morocco",
          "Somalia",
          "Iraq",
          "Sudan",
          "Kyrgyzstan",
          "Mongolia",
          "Palestinian Territories",
          "Laos",
          "Bhutan",
          "Bosnia and Herzegovina",
          "Serbia",
          "Indonesia",
          "Pakistan",
          "Dominican Republic",
          "China",
          "Honduras",
          "Azerbaijan",
          "Nigeria",
          "Montenegro",
          "North Macedonia",
          "Turkmenistan",
          "Jordan",
          "Russia",
          "Nepal",
          "Greece",
          "South Korea",
          "Angola",
          "Turkey",
          "Croatia",
          "Hong Kong",
          "Portugal",
          "Philippines",
          "Malaysia",
          "Latvia",
          "Kazakhstan",
          "Venezuela",
          "Belarus",
          "Nicaragua",
          "Estonia",
          "Moldova",
          "Paraguay",
          "Jamaica",
          "Algeria",
          "Romania",
          "Libya",
          "Kosovo",
          "Slovenia",
          "Peru",
          "Hungary",
          "Cyprus",
          "Italy",
          "Japan",
          "Uzbekistan",
          "Bolivia",
          "Mauritius",
          "Poland",
          "Trinidad and Tobago",
          "Guatemala",
          "Thailand",
          "Belize",
          "Kuwait",
          "Spain",
          "Ecuador",
          "Saudi Arabia",
          "Slovakia",
          "Malta",
          "Bahrain",
          "Lithuania",
          "El Salvador",
          "Taiwan",
          "Armenia",
          "Suriname",
          "Qatar",
          "Colombia",
          "Uruguay",
          "Panama",
          "Germany",
          "Singapore",
          "France",
          "Mexico",
          "Chile",
          "Luxembourg",
          "Czech Republic",
          "Brazil",
          "Switzerland",
          "United Arab Emirates",
          "United Kingdom",
          "Iceland",
          "Oman",
          "United States",
          "Belgium",
          "Ireland",
          "Israel",
          "Puerto Rico",
          "New Zealand",
          "Austria",
          "Norway",
          "Costa Rica",
          "Canada",
          "Sweden",
          "Netherlands",
          "Finland",
          "Denmark",
          "North Cyprus",
          "Argentina",
          "Gambia",
          "Australia"
         ],
         "type": "choropleth",
         "z": [
          3.0789999939999997,
          3.13425002,
          3.5127999819999998,
          3.708000011,
          3.7771999939999996,
          3.830000006,
          3.830199987,
          3.887999979,
          3.901000013,
          3.961666667,
          3.982799977,
          4.000750022,
          4.003400022,
          4.00859997,
          4.019799995,
          4.031199991,
          4.0738000130000005,
          4.08525,
          4.14650002,
          4.205400044,
          4.249999985,
          4.253399998,
          4.302399976,
          4.326200011,
          4.346400042,
          4.369,
          4.375200027,
          4.377399978,
          4.407800031,
          4.409600015,
          4.423200008,
          4.430000006,
          4.447399988,
          4.478400011000001,
          4.516999966,
          4.5395,
          4.547399969,
          4.573750048,
          4.58019996,
          4.618600045,
          4.638999982,
          4.655000011,
          4.661999963,
          4.66674997,
          4.6765999769999995,
          4.6958000339999995,
          4.699799995,
          4.712600011,
          4.718599978,
          4.769250048,
          4.804999976,
          4.839599981,
          4.841400039,
          4.863799955,
          4.905399999,
          4.906599966,
          4.913600022,
          5.004800027,
          5.008000005,
          5.032600043,
          5.035499985,
          5.071800037,
          5.073599985,
          5.074000019,
          5.12025,
          5.124800031,
          5.1618000319999995,
          5.1737999960000005,
          5.174800017,
          5.198200011,
          5.199400004,
          5.218999953,
          5.226000047,
          5.229200041,
          5.2633999760000005,
          5.273399998,
          5.274,
          5.287200005,
          5.305399993,
          5.318199964,
          5.324599978999999,
          5.357200047,
          5.361199964,
          5.393750019,
          5.446000000000001,
          5.458600044,
          5.4908000239999994,
          5.497400034,
          5.507199966,
          5.529000022000001,
          5.561199981000001,
          5.562399953,
          5.5908,
          5.5979999529999995,
          5.63240002,
          5.6378000120000005,
          5.655599963999999,
          5.663000006,
          5.666999973999999,
          5.667600042999999,
          5.671399962000001,
          5.674200019,
          5.690399961000001,
          5.694799979,
          5.7006000310000005,
          5.704399976,
          5.732799963,
          5.756600045,
          5.775000015,
          5.7882000389999995,
          5.813199991,
          5.826000037000001,
          5.83820001,
          5.857600044,
          5.860199999,
          5.871999957000001,
          5.95599995,
          5.958200004,
          5.983599976,
          5.991999979,
          6.027999972999999,
          6.06340001,
          6.07979999,
          6.1137999789999995,
          6.12139999,
          6.124199957,
          6.148799986,
          6.158749982000001,
          6.269,
          6.336,
          6.339999975,
          6.374599999,
          6.388200027999999,
          6.467400043,
          6.508800005,
          6.515199982,
          6.5556000139999995,
          6.58939999,
          6.590999983,
          6.654600041,
          6.657800046,
          6.706399992000001,
          6.827399953,
          6.849200045,
          6.850000037,
          6.853,
          6.897400006,
          6.9213999589999995,
          6.931800047,
          6.979399964,
          7.039,
          7.076400026,
          7.142000007999999,
          7.116600036,
          7.126199999,
          7.350599997000001,
          7.353799984,
          7.381199971,
          7.537799972999999,
          7.545999967,
          7.646999986,
          7.692499993999999,
          8.856,
          7.276199984
         ]
        }
       ],
       "layout": {
        "geo": {
         "showframe": false
        },
        "template": {
         "data": {
          "bar": [
           {
            "error_x": {
             "color": "#2a3f5f"
            },
            "error_y": {
             "color": "#2a3f5f"
            },
            "marker": {
             "line": {
              "color": "#E5ECF6",
              "width": 0.5
             }
            },
            "type": "bar"
           }
          ],
          "barpolar": [
           {
            "marker": {
             "line": {
              "color": "#E5ECF6",
              "width": 0.5
             }
            },
            "type": "barpolar"
           }
          ],
          "carpet": [
           {
            "aaxis": {
             "endlinecolor": "#2a3f5f",
             "gridcolor": "white",
             "linecolor": "white",
             "minorgridcolor": "white",
             "startlinecolor": "#2a3f5f"
            },
            "baxis": {
             "endlinecolor": "#2a3f5f",
             "gridcolor": "white",
             "linecolor": "white",
             "minorgridcolor": "white",
             "startlinecolor": "#2a3f5f"
            },
            "type": "carpet"
           }
          ],
          "choropleth": [
           {
            "colorbar": {
             "outlinewidth": 0,
             "ticks": ""
            },
            "type": "choropleth"
           }
          ],
          "contour": [
           {
            "colorbar": {
             "outlinewidth": 0,
             "ticks": ""
            },
            "colorscale": [
             [
              0,
              "#0d0887"
             ],
             [
              0.1111111111111111,
              "#46039f"
             ],
             [
              0.2222222222222222,
              "#7201a8"
             ],
             [
              0.3333333333333333,
              "#9c179e"
             ],
             [
              0.4444444444444444,
              "#bd3786"
             ],
             [
              0.5555555555555556,
              "#d8576b"
             ],
             [
              0.6666666666666666,
              "#ed7953"
             ],
             [
              0.7777777777777778,
              "#fb9f3a"
             ],
             [
              0.8888888888888888,
              "#fdca26"
             ],
             [
              1,
              "#f0f921"
             ]
            ],
            "type": "contour"
           }
          ],
          "contourcarpet": [
           {
            "colorbar": {
             "outlinewidth": 0,
             "ticks": ""
            },
            "type": "contourcarpet"
           }
          ],
          "heatmap": [
           {
            "colorbar": {
             "outlinewidth": 0,
             "ticks": ""
            },
            "colorscale": [
             [
              0,
              "#0d0887"
             ],
             [
              0.1111111111111111,
              "#46039f"
             ],
             [
              0.2222222222222222,
              "#7201a8"
             ],
             [
              0.3333333333333333,
              "#9c179e"
             ],
             [
              0.4444444444444444,
              "#bd3786"
             ],
             [
              0.5555555555555556,
              "#d8576b"
             ],
             [
              0.6666666666666666,
              "#ed7953"
             ],
             [
              0.7777777777777778,
              "#fb9f3a"
             ],
             [
              0.8888888888888888,
              "#fdca26"
             ],
             [
              1,
              "#f0f921"
             ]
            ],
            "type": "heatmap"
           }
          ],
          "heatmapgl": [
           {
            "colorbar": {
             "outlinewidth": 0,
             "ticks": ""
            },
            "colorscale": [
             [
              0,
              "#0d0887"
             ],
             [
              0.1111111111111111,
              "#46039f"
             ],
             [
              0.2222222222222222,
              "#7201a8"
             ],
             [
              0.3333333333333333,
              "#9c179e"
             ],
             [
              0.4444444444444444,
              "#bd3786"
             ],
             [
              0.5555555555555556,
              "#d8576b"
             ],
             [
              0.6666666666666666,
              "#ed7953"
             ],
             [
              0.7777777777777778,
              "#fb9f3a"
             ],
             [
              0.8888888888888888,
              "#fdca26"
             ],
             [
              1,
              "#f0f921"
             ]
            ],
            "type": "heatmapgl"
           }
          ],
          "histogram": [
           {
            "marker": {
             "colorbar": {
              "outlinewidth": 0,
              "ticks": ""
             }
            },
            "type": "histogram"
           }
          ],
          "histogram2d": [
           {
            "colorbar": {
             "outlinewidth": 0,
             "ticks": ""
            },
            "colorscale": [
             [
              0,
              "#0d0887"
             ],
             [
              0.1111111111111111,
              "#46039f"
             ],
             [
              0.2222222222222222,
              "#7201a8"
             ],
             [
              0.3333333333333333,
              "#9c179e"
             ],
             [
              0.4444444444444444,
              "#bd3786"
             ],
             [
              0.5555555555555556,
              "#d8576b"
             ],
             [
              0.6666666666666666,
              "#ed7953"
             ],
             [
              0.7777777777777778,
              "#fb9f3a"
             ],
             [
              0.8888888888888888,
              "#fdca26"
             ],
             [
              1,
              "#f0f921"
             ]
            ],
            "type": "histogram2d"
           }
          ],
          "histogram2dcontour": [
           {
            "colorbar": {
             "outlinewidth": 0,
             "ticks": ""
            },
            "colorscale": [
             [
              0,
              "#0d0887"
             ],
             [
              0.1111111111111111,
              "#46039f"
             ],
             [
              0.2222222222222222,
              "#7201a8"
             ],
             [
              0.3333333333333333,
              "#9c179e"
             ],
             [
              0.4444444444444444,
              "#bd3786"
             ],
             [
              0.5555555555555556,
              "#d8576b"
             ],
             [
              0.6666666666666666,
              "#ed7953"
             ],
             [
              0.7777777777777778,
              "#fb9f3a"
             ],
             [
              0.8888888888888888,
              "#fdca26"
             ],
             [
              1,
              "#f0f921"
             ]
            ],
            "type": "histogram2dcontour"
           }
          ],
          "mesh3d": [
           {
            "colorbar": {
             "outlinewidth": 0,
             "ticks": ""
            },
            "type": "mesh3d"
           }
          ],
          "parcoords": [
           {
            "line": {
             "colorbar": {
              "outlinewidth": 0,
              "ticks": ""
             }
            },
            "type": "parcoords"
           }
          ],
          "pie": [
           {
            "automargin": true,
            "type": "pie"
           }
          ],
          "scatter": [
           {
            "marker": {
             "colorbar": {
              "outlinewidth": 0,
              "ticks": ""
             }
            },
            "type": "scatter"
           }
          ],
          "scatter3d": [
           {
            "line": {
             "colorbar": {
              "outlinewidth": 0,
              "ticks": ""
             }
            },
            "marker": {
             "colorbar": {
              "outlinewidth": 0,
              "ticks": ""
             }
            },
            "type": "scatter3d"
           }
          ],
          "scattercarpet": [
           {
            "marker": {
             "colorbar": {
              "outlinewidth": 0,
              "ticks": ""
             }
            },
            "type": "scattercarpet"
           }
          ],
          "scattergeo": [
           {
            "marker": {
             "colorbar": {
              "outlinewidth": 0,
              "ticks": ""
             }
            },
            "type": "scattergeo"
           }
          ],
          "scattergl": [
           {
            "marker": {
             "colorbar": {
              "outlinewidth": 0,
              "ticks": ""
             }
            },
            "type": "scattergl"
           }
          ],
          "scattermapbox": [
           {
            "marker": {
             "colorbar": {
              "outlinewidth": 0,
              "ticks": ""
             }
            },
            "type": "scattermapbox"
           }
          ],
          "scatterpolar": [
           {
            "marker": {
             "colorbar": {
              "outlinewidth": 0,
              "ticks": ""
             }
            },
            "type": "scatterpolar"
           }
          ],
          "scatterpolargl": [
           {
            "marker": {
             "colorbar": {
              "outlinewidth": 0,
              "ticks": ""
             }
            },
            "type": "scatterpolargl"
           }
          ],
          "scatterternary": [
           {
            "marker": {
             "colorbar": {
              "outlinewidth": 0,
              "ticks": ""
             }
            },
            "type": "scatterternary"
           }
          ],
          "surface": [
           {
            "colorbar": {
             "outlinewidth": 0,
             "ticks": ""
            },
            "colorscale": [
             [
              0,
              "#0d0887"
             ],
             [
              0.1111111111111111,
              "#46039f"
             ],
             [
              0.2222222222222222,
              "#7201a8"
             ],
             [
              0.3333333333333333,
              "#9c179e"
             ],
             [
              0.4444444444444444,
              "#bd3786"
             ],
             [
              0.5555555555555556,
              "#d8576b"
             ],
             [
              0.6666666666666666,
              "#ed7953"
             ],
             [
              0.7777777777777778,
              "#fb9f3a"
             ],
             [
              0.8888888888888888,
              "#fdca26"
             ],
             [
              1,
              "#f0f921"
             ]
            ],
            "type": "surface"
           }
          ],
          "table": [
           {
            "cells": {
             "fill": {
              "color": "#EBF0F8"
             },
             "line": {
              "color": "white"
             }
            },
            "header": {
             "fill": {
              "color": "#C8D4E3"
             },
             "line": {
              "color": "white"
             }
            },
            "type": "table"
           }
          ]
         },
         "layout": {
          "annotationdefaults": {
           "arrowcolor": "#2a3f5f",
           "arrowhead": 0,
           "arrowwidth": 1
          },
          "autotypenumbers": "strict",
          "coloraxis": {
           "colorbar": {
            "outlinewidth": 0,
            "ticks": ""
           }
          },
          "colorscale": {
           "diverging": [
            [
             0,
             "#8e0152"
            ],
            [
             0.1,
             "#c51b7d"
            ],
            [
             0.2,
             "#de77ae"
            ],
            [
             0.3,
             "#f1b6da"
            ],
            [
             0.4,
             "#fde0ef"
            ],
            [
             0.5,
             "#f7f7f7"
            ],
            [
             0.6,
             "#e6f5d0"
            ],
            [
             0.7,
             "#b8e186"
            ],
            [
             0.8,
             "#7fbc41"
            ],
            [
             0.9,
             "#4d9221"
            ],
            [
             1,
             "#276419"
            ]
           ],
           "sequential": [
            [
             0,
             "#0d0887"
            ],
            [
             0.1111111111111111,
             "#46039f"
            ],
            [
             0.2222222222222222,
             "#7201a8"
            ],
            [
             0.3333333333333333,
             "#9c179e"
            ],
            [
             0.4444444444444444,
             "#bd3786"
            ],
            [
             0.5555555555555556,
             "#d8576b"
            ],
            [
             0.6666666666666666,
             "#ed7953"
            ],
            [
             0.7777777777777778,
             "#fb9f3a"
            ],
            [
             0.8888888888888888,
             "#fdca26"
            ],
            [
             1,
             "#f0f921"
            ]
           ],
           "sequentialminus": [
            [
             0,
             "#0d0887"
            ],
            [
             0.1111111111111111,
             "#46039f"
            ],
            [
             0.2222222222222222,
             "#7201a8"
            ],
            [
             0.3333333333333333,
             "#9c179e"
            ],
            [
             0.4444444444444444,
             "#bd3786"
            ],
            [
             0.5555555555555556,
             "#d8576b"
            ],
            [
             0.6666666666666666,
             "#ed7953"
            ],
            [
             0.7777777777777778,
             "#fb9f3a"
            ],
            [
             0.8888888888888888,
             "#fdca26"
            ],
            [
             1,
             "#f0f921"
            ]
           ]
          },
          "colorway": [
           "#636efa",
           "#EF553B",
           "#00cc96",
           "#ab63fa",
           "#FFA15A",
           "#19d3f3",
           "#FF6692",
           "#B6E880",
           "#FF97FF",
           "#FECB52"
          ],
          "font": {
           "color": "#2a3f5f"
          },
          "geo": {
           "bgcolor": "white",
           "lakecolor": "white",
           "landcolor": "#E5ECF6",
           "showlakes": true,
           "showland": true,
           "subunitcolor": "white"
          },
          "hoverlabel": {
           "align": "left"
          },
          "hovermode": "closest",
          "mapbox": {
           "style": "light"
          },
          "paper_bgcolor": "white",
          "plot_bgcolor": "#E5ECF6",
          "polar": {
           "angularaxis": {
            "gridcolor": "white",
            "linecolor": "white",
            "ticks": ""
           },
           "bgcolor": "#E5ECF6",
           "radialaxis": {
            "gridcolor": "white",
            "linecolor": "white",
            "ticks": ""
           }
          },
          "scene": {
           "xaxis": {
            "backgroundcolor": "#E5ECF6",
            "gridcolor": "white",
            "gridwidth": 2,
            "linecolor": "white",
            "showbackground": true,
            "ticks": "",
            "zerolinecolor": "white"
           },
           "yaxis": {
            "backgroundcolor": "#E5ECF6",
            "gridcolor": "white",
            "gridwidth": 2,
            "linecolor": "white",
            "showbackground": true,
            "ticks": "",
            "zerolinecolor": "white"
           },
           "zaxis": {
            "backgroundcolor": "#E5ECF6",
            "gridcolor": "white",
            "gridwidth": 2,
            "linecolor": "white",
            "showbackground": true,
            "ticks": "",
            "zerolinecolor": "white"
           }
          },
          "shapedefaults": {
           "line": {
            "color": "#2a3f5f"
           }
          },
          "ternary": {
           "aaxis": {
            "gridcolor": "white",
            "linecolor": "white",
            "ticks": ""
           },
           "baxis": {
            "gridcolor": "white",
            "linecolor": "white",
            "ticks": ""
           },
           "bgcolor": "#E5ECF6",
           "caxis": {
            "gridcolor": "white",
            "linecolor": "white",
            "ticks": ""
           }
          },
          "title": {
           "x": 0.05
          },
          "xaxis": {
           "automargin": true,
           "gridcolor": "white",
           "linecolor": "white",
           "ticks": "",
           "title": {
            "standoff": 15
           },
           "zerolinecolor": "white",
           "zerolinewidth": 2
          },
          "yaxis": {
           "automargin": true,
           "gridcolor": "white",
           "linecolor": "white",
           "ticks": "",
           "title": {
            "standoff": 15
           },
           "zerolinecolor": "white",
           "zerolinewidth": 2
          }
         }
        },
        "title": {
         "text": "World Average Happiness Score"
        }
       }
      },
      "text/html": [
       "<div>                            <div id=\"5f5bb831-7801-40c0-a2fc-91ac55c748a7\" class=\"plotly-graph-div\" style=\"height:525px; width:100%;\"></div>            <script type=\"text/javascript\">                require([\"plotly\"], function(Plotly) {                    window.PLOTLYENV=window.PLOTLYENV || {};                                    if (document.getElementById(\"5f5bb831-7801-40c0-a2fc-91ac55c748a7\")) {                    Plotly.newPlot(                        \"5f5bb831-7801-40c0-a2fc-91ac55c748a7\",                        [{\"autocolorscale\": false, \"colorbar\": {\"title\": {\"text\": \"Happiness Score\"}}, \"colorscale\": [[0.0, \"rgb(103,0,31)\"], [0.1, \"rgb(178,24,43)\"], [0.2, \"rgb(214,96,77)\"], [0.3, \"rgb(244,165,130)\"], [0.4, \"rgb(253,219,199)\"], [0.5, \"rgb(247,247,247)\"], [0.6, \"rgb(209,229,240)\"], [0.7, \"rgb(146,197,222)\"], [0.8, \"rgb(67,147,195)\"], [0.9, \"rgb(33,102,172)\"], [1.0, \"rgb(5,48,97)\"]], \"locationmode\": \"country names\", \"locations\": [\"Burundi\", \"Central African Republic\", \"Afghanistan\", \"Madagascar\", \"Guinea\", \"Botswana\", \"Yemen\", \"Syria\", \"Benin\", \"Comoros\", \"Togo\", \"Lesotho\", \"Chad\", \"Uganda\", \"Tanzania\", \"Rwanda\", \"Burkina Faso\", \"Zimbabwe\", \"South Sudan\", \"Cambodia\", \"Haiti\", \"Liberia\", \"Niger\", \"Sri Lanka\", \"Congo (Kinshasa)\", \"Djibouti\", \"Egypt\", \"Congo (Brazzaville)\", \"Gabon\", \"Myanmar\", \"Ethiopia\", \"Malawi\", \"Zambia\", \"India\", \"Ivory Coast\", \"Swaziland\", \"Senegal\", \"Mozambique\", \"Bangladesh\", \"Bulgaria\", \"Iran\", \"Mali\", \"Mauritania\", \"Namibia\", \"Ghana\", \"Cameroon\", \"Kenya\", \"Albania\", \"Tajikistan\", \"Macedonia\", \"Vietnam\", \"Lebanon\", \"Ukraine\", \"Georgia\", \"South Africa\", \"Tunisia\", \"Sierra Leone\", \"Morocco\", \"Somalia\", \"Iraq\", \"Sudan\", \"Kyrgyzstan\", \"Mongolia\", \"Palestinian Territories\", \"Laos\", \"Bhutan\", \"Bosnia and Herzegovina\", \"Serbia\", \"Indonesia\", \"Pakistan\", \"Dominican Republic\", \"China\", \"Honduras\", \"Azerbaijan\", \"Nigeria\", \"Montenegro\", \"North Macedonia\", \"Turkmenistan\", \"Jordan\", \"Russia\", \"Nepal\", \"Greece\", \"South Korea\", \"Angola\", \"Turkey\", \"Croatia\", \"Hong Kong\", \"Portugal\", \"Philippines\", \"Malaysia\", \"Latvia\", \"Kazakhstan\", \"Venezuela\", \"Belarus\", \"Nicaragua\", \"Estonia\", \"Moldova\", \"Paraguay\", \"Jamaica\", \"Algeria\", \"Romania\", \"Libya\", \"Kosovo\", \"Slovenia\", \"Peru\", \"Hungary\", \"Cyprus\", \"Italy\", \"Japan\", \"Uzbekistan\", \"Bolivia\", \"Mauritius\", \"Poland\", \"Trinidad and Tobago\", \"Guatemala\", \"Thailand\", \"Belize\", \"Kuwait\", \"Spain\", \"Ecuador\", \"Saudi Arabia\", \"Slovakia\", \"Malta\", \"Bahrain\", \"Lithuania\", \"El Salvador\", \"Taiwan\", \"Armenia\", \"Suriname\", \"Qatar\", \"Colombia\", \"Uruguay\", \"Panama\", \"Germany\", \"Singapore\", \"France\", \"Mexico\", \"Chile\", \"Luxembourg\", \"Czech Republic\", \"Brazil\", \"Switzerland\", \"United Arab Emirates\", \"United Kingdom\", \"Iceland\", \"Oman\", \"United States\", \"Belgium\", \"Ireland\", \"Israel\", \"Puerto Rico\", \"New Zealand\", \"Austria\", \"Norway\", \"Costa Rica\", \"Canada\", \"Sweden\", \"Netherlands\", \"Finland\", \"Denmark\", \"North Cyprus\", \"Argentina\", \"Gambia\", \"Australia\"], \"marker\": {\"line\": {\"color\": \"darkgray\", \"width\": 0.1}}, \"text\": [\"Burundi\", \"Central African Republic\", \"Afghanistan\", \"Madagascar\", \"Guinea\", \"Botswana\", \"Yemen\", \"Syria\", \"Benin\", \"Comoros\", \"Togo\", \"Lesotho\", \"Chad\", \"Uganda\", \"Tanzania\", \"Rwanda\", \"Burkina Faso\", \"Zimbabwe\", \"South Sudan\", \"Cambodia\", \"Haiti\", \"Liberia\", \"Niger\", \"Sri Lanka\", \"Congo (Kinshasa)\", \"Djibouti\", \"Egypt\", \"Congo (Brazzaville)\", \"Gabon\", \"Myanmar\", \"Ethiopia\", \"Malawi\", \"Zambia\", \"India\", \"Ivory Coast\", \"Swaziland\", \"Senegal\", \"Mozambique\", \"Bangladesh\", \"Bulgaria\", \"Iran\", \"Mali\", \"Mauritania\", \"Namibia\", \"Ghana\", \"Cameroon\", \"Kenya\", \"Albania\", \"Tajikistan\", \"Macedonia\", \"Vietnam\", \"Lebanon\", \"Ukraine\", \"Georgia\", \"South Africa\", \"Tunisia\", \"Sierra Leone\", \"Morocco\", \"Somalia\", \"Iraq\", \"Sudan\", \"Kyrgyzstan\", \"Mongolia\", \"Palestinian Territories\", \"Laos\", \"Bhutan\", \"Bosnia and Herzegovina\", \"Serbia\", \"Indonesia\", \"Pakistan\", \"Dominican Republic\", \"China\", \"Honduras\", \"Azerbaijan\", \"Nigeria\", \"Montenegro\", \"North Macedonia\", \"Turkmenistan\", \"Jordan\", \"Russia\", \"Nepal\", \"Greece\", \"South Korea\", \"Angola\", \"Turkey\", \"Croatia\", \"Hong Kong\", \"Portugal\", \"Philippines\", \"Malaysia\", \"Latvia\", \"Kazakhstan\", \"Venezuela\", \"Belarus\", \"Nicaragua\", \"Estonia\", \"Moldova\", \"Paraguay\", \"Jamaica\", \"Algeria\", \"Romania\", \"Libya\", \"Kosovo\", \"Slovenia\", \"Peru\", \"Hungary\", \"Cyprus\", \"Italy\", \"Japan\", \"Uzbekistan\", \"Bolivia\", \"Mauritius\", \"Poland\", \"Trinidad and Tobago\", \"Guatemala\", \"Thailand\", \"Belize\", \"Kuwait\", \"Spain\", \"Ecuador\", \"Saudi Arabia\", \"Slovakia\", \"Malta\", \"Bahrain\", \"Lithuania\", \"El Salvador\", \"Taiwan\", \"Armenia\", \"Suriname\", \"Qatar\", \"Colombia\", \"Uruguay\", \"Panama\", \"Germany\", \"Singapore\", \"France\", \"Mexico\", \"Chile\", \"Luxembourg\", \"Czech Republic\", \"Brazil\", \"Switzerland\", \"United Arab Emirates\", \"United Kingdom\", \"Iceland\", \"Oman\", \"United States\", \"Belgium\", \"Ireland\", \"Israel\", \"Puerto Rico\", \"New Zealand\", \"Austria\", \"Norway\", \"Costa Rica\", \"Canada\", \"Sweden\", \"Netherlands\", \"Finland\", \"Denmark\", \"North Cyprus\", \"Argentina\", \"Gambia\", \"Australia\"], \"type\": \"choropleth\", \"z\": [3.0789999939999997, 3.13425002, 3.5127999819999998, 3.708000011, 3.7771999939999996, 3.830000006, 3.830199987, 3.887999979, 3.901000013, 3.961666667, 3.982799977, 4.000750022, 4.003400022, 4.00859997, 4.019799995, 4.031199991, 4.0738000130000005, 4.08525, 4.14650002, 4.205400044, 4.249999985, 4.253399998, 4.302399976, 4.326200011, 4.346400042, 4.369, 4.375200027, 4.377399978, 4.407800031, 4.409600015, 4.423200008, 4.430000006, 4.447399988, 4.478400011000001, 4.516999966, 4.5395, 4.547399969, 4.573750048, 4.58019996, 4.618600045, 4.638999982, 4.655000011, 4.661999963, 4.66674997, 4.6765999769999995, 4.6958000339999995, 4.699799995, 4.712600011, 4.718599978, 4.769250048, 4.804999976, 4.839599981, 4.841400039, 4.863799955, 4.905399999, 4.906599966, 4.913600022, 5.004800027, 5.008000005, 5.032600043, 5.035499985, 5.071800037, 5.073599985, 5.074000019, 5.12025, 5.124800031, 5.1618000319999995, 5.1737999960000005, 5.174800017, 5.198200011, 5.199400004, 5.218999953, 5.226000047, 5.229200041, 5.2633999760000005, 5.273399998, 5.274, 5.287200005, 5.305399993, 5.318199964, 5.324599978999999, 5.357200047, 5.361199964, 5.393750019, 5.446000000000001, 5.458600044, 5.4908000239999994, 5.497400034, 5.507199966, 5.529000022000001, 5.561199981000001, 5.562399953, 5.5908, 5.5979999529999995, 5.63240002, 5.6378000120000005, 5.655599963999999, 5.663000006, 5.666999973999999, 5.667600042999999, 5.671399962000001, 5.674200019, 5.690399961000001, 5.694799979, 5.7006000310000005, 5.704399976, 5.732799963, 5.756600045, 5.775000015, 5.7882000389999995, 5.813199991, 5.826000037000001, 5.83820001, 5.857600044, 5.860199999, 5.871999957000001, 5.95599995, 5.958200004, 5.983599976, 5.991999979, 6.027999972999999, 6.06340001, 6.07979999, 6.1137999789999995, 6.12139999, 6.124199957, 6.148799986, 6.158749982000001, 6.269, 6.336, 6.339999975, 6.374599999, 6.388200027999999, 6.467400043, 6.508800005, 6.515199982, 6.5556000139999995, 6.58939999, 6.590999983, 6.654600041, 6.657800046, 6.706399992000001, 6.827399953, 6.849200045, 6.850000037, 6.853, 6.897400006, 6.9213999589999995, 6.931800047, 6.979399964, 7.039, 7.076400026, 7.142000007999999, 7.116600036, 7.126199999, 7.350599997000001, 7.353799984, 7.381199971, 7.537799972999999, 7.545999967, 7.646999986, 7.692499993999999, 8.856, 7.276199984]}],                        {\"geo\": {\"showframe\": false}, \"template\": {\"data\": {\"bar\": [{\"error_x\": {\"color\": \"#2a3f5f\"}, \"error_y\": {\"color\": \"#2a3f5f\"}, \"marker\": {\"line\": {\"color\": \"#E5ECF6\", \"width\": 0.5}}, \"type\": \"bar\"}], \"barpolar\": [{\"marker\": {\"line\": {\"color\": \"#E5ECF6\", \"width\": 0.5}}, \"type\": \"barpolar\"}], \"carpet\": [{\"aaxis\": {\"endlinecolor\": \"#2a3f5f\", \"gridcolor\": \"white\", \"linecolor\": \"white\", \"minorgridcolor\": \"white\", \"startlinecolor\": \"#2a3f5f\"}, \"baxis\": {\"endlinecolor\": \"#2a3f5f\", \"gridcolor\": \"white\", \"linecolor\": \"white\", \"minorgridcolor\": \"white\", \"startlinecolor\": \"#2a3f5f\"}, \"type\": \"carpet\"}], \"choropleth\": [{\"colorbar\": {\"outlinewidth\": 0, \"ticks\": \"\"}, \"type\": \"choropleth\"}], \"contour\": [{\"colorbar\": {\"outlinewidth\": 0, \"ticks\": \"\"}, \"colorscale\": [[0.0, \"#0d0887\"], [0.1111111111111111, \"#46039f\"], [0.2222222222222222, \"#7201a8\"], [0.3333333333333333, \"#9c179e\"], [0.4444444444444444, \"#bd3786\"], [0.5555555555555556, \"#d8576b\"], [0.6666666666666666, \"#ed7953\"], [0.7777777777777778, \"#fb9f3a\"], [0.8888888888888888, \"#fdca26\"], [1.0, \"#f0f921\"]], \"type\": \"contour\"}], \"contourcarpet\": [{\"colorbar\": {\"outlinewidth\": 0, \"ticks\": \"\"}, \"type\": \"contourcarpet\"}], \"heatmap\": [{\"colorbar\": {\"outlinewidth\": 0, \"ticks\": \"\"}, \"colorscale\": [[0.0, \"#0d0887\"], [0.1111111111111111, \"#46039f\"], [0.2222222222222222, \"#7201a8\"], [0.3333333333333333, \"#9c179e\"], [0.4444444444444444, \"#bd3786\"], [0.5555555555555556, \"#d8576b\"], [0.6666666666666666, \"#ed7953\"], [0.7777777777777778, \"#fb9f3a\"], [0.8888888888888888, \"#fdca26\"], [1.0, \"#f0f921\"]], \"type\": \"heatmap\"}], \"heatmapgl\": [{\"colorbar\": {\"outlinewidth\": 0, \"ticks\": \"\"}, \"colorscale\": [[0.0, \"#0d0887\"], [0.1111111111111111, \"#46039f\"], [0.2222222222222222, \"#7201a8\"], [0.3333333333333333, \"#9c179e\"], [0.4444444444444444, \"#bd3786\"], [0.5555555555555556, \"#d8576b\"], [0.6666666666666666, \"#ed7953\"], [0.7777777777777778, \"#fb9f3a\"], [0.8888888888888888, \"#fdca26\"], [1.0, \"#f0f921\"]], \"type\": \"heatmapgl\"}], \"histogram\": [{\"marker\": {\"colorbar\": {\"outlinewidth\": 0, \"ticks\": \"\"}}, \"type\": \"histogram\"}], \"histogram2d\": [{\"colorbar\": {\"outlinewidth\": 0, \"ticks\": \"\"}, \"colorscale\": [[0.0, \"#0d0887\"], [0.1111111111111111, \"#46039f\"], [0.2222222222222222, \"#7201a8\"], [0.3333333333333333, \"#9c179e\"], [0.4444444444444444, \"#bd3786\"], [0.5555555555555556, \"#d8576b\"], [0.6666666666666666, \"#ed7953\"], [0.7777777777777778, \"#fb9f3a\"], [0.8888888888888888, \"#fdca26\"], [1.0, \"#f0f921\"]], \"type\": \"histogram2d\"}], \"histogram2dcontour\": [{\"colorbar\": {\"outlinewidth\": 0, \"ticks\": \"\"}, \"colorscale\": [[0.0, \"#0d0887\"], [0.1111111111111111, \"#46039f\"], [0.2222222222222222, \"#7201a8\"], [0.3333333333333333, \"#9c179e\"], [0.4444444444444444, \"#bd3786\"], [0.5555555555555556, \"#d8576b\"], [0.6666666666666666, \"#ed7953\"], [0.7777777777777778, \"#fb9f3a\"], [0.8888888888888888, \"#fdca26\"], [1.0, \"#f0f921\"]], \"type\": \"histogram2dcontour\"}], \"mesh3d\": [{\"colorbar\": {\"outlinewidth\": 0, \"ticks\": \"\"}, \"type\": \"mesh3d\"}], \"parcoords\": [{\"line\": {\"colorbar\": {\"outlinewidth\": 0, \"ticks\": \"\"}}, \"type\": \"parcoords\"}], \"pie\": [{\"automargin\": true, \"type\": \"pie\"}], \"scatter\": [{\"marker\": {\"colorbar\": {\"outlinewidth\": 0, \"ticks\": \"\"}}, \"type\": \"scatter\"}], \"scatter3d\": [{\"line\": {\"colorbar\": {\"outlinewidth\": 0, \"ticks\": \"\"}}, \"marker\": {\"colorbar\": {\"outlinewidth\": 0, \"ticks\": \"\"}}, \"type\": \"scatter3d\"}], \"scattercarpet\": [{\"marker\": {\"colorbar\": {\"outlinewidth\": 0, \"ticks\": \"\"}}, \"type\": \"scattercarpet\"}], \"scattergeo\": [{\"marker\": {\"colorbar\": {\"outlinewidth\": 0, \"ticks\": \"\"}}, \"type\": \"scattergeo\"}], \"scattergl\": [{\"marker\": {\"colorbar\": {\"outlinewidth\": 0, \"ticks\": \"\"}}, \"type\": \"scattergl\"}], \"scattermapbox\": [{\"marker\": {\"colorbar\": {\"outlinewidth\": 0, \"ticks\": \"\"}}, \"type\": \"scattermapbox\"}], \"scatterpolar\": [{\"marker\": {\"colorbar\": {\"outlinewidth\": 0, \"ticks\": \"\"}}, \"type\": \"scatterpolar\"}], \"scatterpolargl\": [{\"marker\": {\"colorbar\": {\"outlinewidth\": 0, \"ticks\": \"\"}}, \"type\": \"scatterpolargl\"}], \"scatterternary\": [{\"marker\": {\"colorbar\": {\"outlinewidth\": 0, \"ticks\": \"\"}}, \"type\": \"scatterternary\"}], \"surface\": [{\"colorbar\": {\"outlinewidth\": 0, \"ticks\": \"\"}, \"colorscale\": [[0.0, \"#0d0887\"], [0.1111111111111111, \"#46039f\"], [0.2222222222222222, \"#7201a8\"], [0.3333333333333333, \"#9c179e\"], [0.4444444444444444, \"#bd3786\"], [0.5555555555555556, \"#d8576b\"], [0.6666666666666666, \"#ed7953\"], [0.7777777777777778, \"#fb9f3a\"], [0.8888888888888888, \"#fdca26\"], [1.0, \"#f0f921\"]], \"type\": \"surface\"}], \"table\": [{\"cells\": {\"fill\": {\"color\": \"#EBF0F8\"}, \"line\": {\"color\": \"white\"}}, \"header\": {\"fill\": {\"color\": \"#C8D4E3\"}, \"line\": {\"color\": \"white\"}}, \"type\": \"table\"}]}, \"layout\": {\"annotationdefaults\": {\"arrowcolor\": \"#2a3f5f\", \"arrowhead\": 0, \"arrowwidth\": 1}, \"autotypenumbers\": \"strict\", \"coloraxis\": {\"colorbar\": {\"outlinewidth\": 0, \"ticks\": \"\"}}, \"colorscale\": {\"diverging\": [[0, \"#8e0152\"], [0.1, \"#c51b7d\"], [0.2, \"#de77ae\"], [0.3, \"#f1b6da\"], [0.4, \"#fde0ef\"], [0.5, \"#f7f7f7\"], [0.6, \"#e6f5d0\"], [0.7, \"#b8e186\"], [0.8, \"#7fbc41\"], [0.9, \"#4d9221\"], [1, \"#276419\"]], \"sequential\": [[0.0, \"#0d0887\"], [0.1111111111111111, \"#46039f\"], [0.2222222222222222, \"#7201a8\"], [0.3333333333333333, \"#9c179e\"], [0.4444444444444444, \"#bd3786\"], [0.5555555555555556, \"#d8576b\"], [0.6666666666666666, \"#ed7953\"], [0.7777777777777778, \"#fb9f3a\"], [0.8888888888888888, \"#fdca26\"], [1.0, \"#f0f921\"]], \"sequentialminus\": [[0.0, \"#0d0887\"], [0.1111111111111111, \"#46039f\"], [0.2222222222222222, \"#7201a8\"], [0.3333333333333333, \"#9c179e\"], [0.4444444444444444, \"#bd3786\"], [0.5555555555555556, \"#d8576b\"], [0.6666666666666666, \"#ed7953\"], [0.7777777777777778, \"#fb9f3a\"], [0.8888888888888888, \"#fdca26\"], [1.0, \"#f0f921\"]]}, \"colorway\": [\"#636efa\", \"#EF553B\", \"#00cc96\", \"#ab63fa\", \"#FFA15A\", \"#19d3f3\", \"#FF6692\", \"#B6E880\", \"#FF97FF\", \"#FECB52\"], \"font\": {\"color\": \"#2a3f5f\"}, \"geo\": {\"bgcolor\": \"white\", \"lakecolor\": \"white\", \"landcolor\": \"#E5ECF6\", \"showlakes\": true, \"showland\": true, \"subunitcolor\": \"white\"}, \"hoverlabel\": {\"align\": \"left\"}, \"hovermode\": \"closest\", \"mapbox\": {\"style\": \"light\"}, \"paper_bgcolor\": \"white\", \"plot_bgcolor\": \"#E5ECF6\", \"polar\": {\"angularaxis\": {\"gridcolor\": \"white\", \"linecolor\": \"white\", \"ticks\": \"\"}, \"bgcolor\": \"#E5ECF6\", \"radialaxis\": {\"gridcolor\": \"white\", \"linecolor\": \"white\", \"ticks\": \"\"}}, \"scene\": {\"xaxis\": {\"backgroundcolor\": \"#E5ECF6\", \"gridcolor\": \"white\", \"gridwidth\": 2, \"linecolor\": \"white\", \"showbackground\": true, \"ticks\": \"\", \"zerolinecolor\": \"white\"}, \"yaxis\": {\"backgroundcolor\": \"#E5ECF6\", \"gridcolor\": \"white\", \"gridwidth\": 2, \"linecolor\": \"white\", \"showbackground\": true, \"ticks\": \"\", \"zerolinecolor\": \"white\"}, \"zaxis\": {\"backgroundcolor\": \"#E5ECF6\", \"gridcolor\": \"white\", \"gridwidth\": 2, \"linecolor\": \"white\", \"showbackground\": true, \"ticks\": \"\", \"zerolinecolor\": \"white\"}}, \"shapedefaults\": {\"line\": {\"color\": \"#2a3f5f\"}}, \"ternary\": {\"aaxis\": {\"gridcolor\": \"white\", \"linecolor\": \"white\", \"ticks\": \"\"}, \"baxis\": {\"gridcolor\": \"white\", \"linecolor\": \"white\", \"ticks\": \"\"}, \"bgcolor\": \"#E5ECF6\", \"caxis\": {\"gridcolor\": \"white\", \"linecolor\": \"white\", \"ticks\": \"\"}}, \"title\": {\"x\": 0.05}, \"xaxis\": {\"automargin\": true, \"gridcolor\": \"white\", \"linecolor\": \"white\", \"ticks\": \"\", \"title\": {\"standoff\": 15}, \"zerolinecolor\": \"white\", \"zerolinewidth\": 2}, \"yaxis\": {\"automargin\": true, \"gridcolor\": \"white\", \"linecolor\": \"white\", \"ticks\": \"\", \"title\": {\"standoff\": 15}, \"zerolinecolor\": \"white\", \"zerolinewidth\": 2}}}, \"title\": {\"text\": \"World Average Happiness Score\"}},                        {\"responsive\": true}                    ).then(function(){\n",
       "                            \n",
       "var gd = document.getElementById('5f5bb831-7801-40c0-a2fc-91ac55c748a7');\n",
       "var x = new MutationObserver(function (mutations, observer) {{\n",
       "        var display = window.getComputedStyle(gd).display;\n",
       "        if (!display || display === 'none') {{\n",
       "            console.log([gd, 'removed!']);\n",
       "            Plotly.purge(gd);\n",
       "            observer.disconnect();\n",
       "        }}\n",
       "}});\n",
       "\n",
       "// Listen for the removal of the full notebook cells\n",
       "var notebookContainer = gd.closest('#notebook-container');\n",
       "if (notebookContainer) {{\n",
       "    x.observe(notebookContainer, {childList: true});\n",
       "}}\n",
       "\n",
       "// Listen for the clearing of the current output cell\n",
       "var outputEl = gd.closest('.output');\n",
       "if (outputEl) {{\n",
       "    x.observe(outputEl, {childList: true});\n",
       "}}\n",
       "\n",
       "                        })                };                });            </script>        </div>"
      ]
     },
     "metadata": {},
     "output_type": "display_data"
    }
   ],
   "source": [
    "fig = go.Figure(data=go.Choropleth(\n",
    "    locations = df['Country'],\n",
    "    locationmode='country names',\n",
    "    z = df['Happiness Score'],\n",
    "    text = df['Country'],\n",
    "    colorscale = 'rdbu',\n",
    "    autocolorscale=False,\n",
    "    #reversescale=True,\n",
    "    marker_line_color='darkgray',\n",
    "    marker_line_width=0.1,\n",
    "    colorbar_title = 'Happiness Score'),\n",
    "    layout = dict(title='World Average Happiness Score', \n",
    "                  geo=dict(showframe=False#, projection={'type': 'Equirectangular'}\n",
    "                          ))\n",
    ")\n",
    "fig.show()"
   ]
  }
 ],
 "metadata": {
  "kernelspec": {
   "display_name": "Python 3",
   "language": "python",
   "name": "python3"
  },
  "language_info": {
   "codemirror_mode": {
    "name": "ipython",
    "version": 3
   },
   "file_extension": ".py",
   "mimetype": "text/x-python",
   "name": "python",
   "nbconvert_exporter": "python",
   "pygments_lexer": "ipython3",
   "version": "3.8.5"
  }
 },
 "nbformat": 4,
 "nbformat_minor": 4
}
