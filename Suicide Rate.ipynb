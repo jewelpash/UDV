{
 "cells": [
  {
   "cell_type": "code",
   "execution_count": 44,
   "metadata": {},
   "outputs": [
    {
     "data": {
      "text/html": [
       "        <script type=\"text/javascript\">\n",
       "        window.PlotlyConfig = {MathJaxConfig: 'local'};\n",
       "        if (window.MathJax) {MathJax.Hub.Config({SVG: {font: \"STIX-Web\"}});}\n",
       "        if (typeof require !== 'undefined') {\n",
       "        require.undef(\"plotly\");\n",
       "        requirejs.config({\n",
       "            paths: {\n",
       "                'plotly': ['https://cdn.plot.ly/plotly-latest.min']\n",
       "            }\n",
       "        });\n",
       "        require(['plotly'], function(Plotly) {\n",
       "            window._Plotly = Plotly;\n",
       "        });\n",
       "        }\n",
       "        </script>\n",
       "        "
      ]
     },
     "metadata": {},
     "output_type": "display_data"
    }
   ],
   "source": [
    "import pandas as pd\n",
    "import numpy as np\n",
    "import matplotlib.pyplot as plt\n",
    "import seaborn as sns\n",
    "from scipy import stats\n",
    "from sklearn.tree import DecisionTreeClassifier\n",
    "from sklearn.ensemble import RandomForestClassifier\n",
    "from sklearn.metrics import classification_report, confusion_matrix\n",
    "from sklearn.datasets import fetch_20newsgroups_vectorized\n",
    "from sklearn.feature_selection import chi2\n",
    "from sklearn.feature_selection import RFE\n",
    "from sklearn.ensemble import ExtraTreesClassifier\n",
    "from sklearn import datasets\n",
    "from sklearn import metrics\n",
    "import types\n",
    "from sklearn.manifold import TSNE\n",
    "import plotly.graph_objs as go\n",
    "from plotly.offline import download_plotlyjs, init_notebook_mode, plot, iplot\n",
    "init_notebook_mode(connected=True)\n",
    "%matplotlib inline\n",
    "import seaborn as sns\n",
    "sns.set(style=\"darkgrid\", palette=\"bright\", font_scale=1.5)"
   ]
  },
  {
   "cell_type": "code",
   "execution_count": 45,
   "metadata": {},
   "outputs": [
    {
     "data": {
      "text/html": [
       "<div>\n",
       "<style scoped>\n",
       "    .dataframe tbody tr th:only-of-type {\n",
       "        vertical-align: middle;\n",
       "    }\n",
       "\n",
       "    .dataframe tbody tr th {\n",
       "        vertical-align: top;\n",
       "    }\n",
       "\n",
       "    .dataframe thead th {\n",
       "        text-align: right;\n",
       "    }\n",
       "</style>\n",
       "<table border=\"1\" class=\"dataframe\">\n",
       "  <thead>\n",
       "    <tr style=\"text-align: right;\">\n",
       "      <th></th>\n",
       "      <th>Country</th>\n",
       "      <th>mean</th>\n",
       "      <th>2016</th>\n",
       "      <th>2015</th>\n",
       "      <th>2010</th>\n",
       "      <th>2005</th>\n",
       "      <th>2000</th>\n",
       "    </tr>\n",
       "  </thead>\n",
       "  <tbody>\n",
       "    <tr>\n",
       "      <th>1</th>\n",
       "      <td>Lithuania</td>\n",
       "      <td>39.74</td>\n",
       "      <td>31.9</td>\n",
       "      <td>34.9</td>\n",
       "      <td>37.3</td>\n",
       "      <td>43.9</td>\n",
       "      <td>50.7</td>\n",
       "    </tr>\n",
       "    <tr>\n",
       "      <th>2</th>\n",
       "      <td>Belarus</td>\n",
       "      <td>35.78</td>\n",
       "      <td>26.2</td>\n",
       "      <td>26.3</td>\n",
       "      <td>38.2</td>\n",
       "      <td>45.1</td>\n",
       "      <td>43.1</td>\n",
       "    </tr>\n",
       "    <tr>\n",
       "      <th>3</th>\n",
       "      <td>Ukraine</td>\n",
       "      <td>28.80</td>\n",
       "      <td>22.4</td>\n",
       "      <td>23.1</td>\n",
       "      <td>27.1</td>\n",
       "      <td>34.5</td>\n",
       "      <td>36.9</td>\n",
       "    </tr>\n",
       "    <tr>\n",
       "      <th>4</th>\n",
       "      <td>Latvia</td>\n",
       "      <td>25.38</td>\n",
       "      <td>21.2</td>\n",
       "      <td>21.6</td>\n",
       "      <td>22.7</td>\n",
       "      <td>26.7</td>\n",
       "      <td>34.7</td>\n",
       "    </tr>\n",
       "    <tr>\n",
       "      <th>5</th>\n",
       "      <td>Kazakhstan</td>\n",
       "      <td>30.70</td>\n",
       "      <td>22.5</td>\n",
       "      <td>24.9</td>\n",
       "      <td>32.7</td>\n",
       "      <td>39.4</td>\n",
       "      <td>34.0</td>\n",
       "    </tr>\n",
       "  </tbody>\n",
       "</table>\n",
       "</div>"
      ],
      "text/plain": [
       "      Country   mean  2016  2015  2010  2005  2000\n",
       "1   Lithuania  39.74  31.9  34.9  37.3  43.9  50.7\n",
       "2     Belarus  35.78  26.2  26.3  38.2  45.1  43.1\n",
       "3     Ukraine  28.80  22.4  23.1  27.1  34.5  36.9\n",
       "4      Latvia  25.38  21.2  21.6  22.7  26.7  34.7\n",
       "5  Kazakhstan  30.70  22.5  24.9  32.7  39.4  34.0"
      ]
     },
     "execution_count": 45,
     "metadata": {},
     "output_type": "execute_result"
    }
   ],
   "source": [
    "df = pd.read_csv(\"Suicide_Rate(TOATAL).csv\")\n",
    "df = df.drop([df.index[0]])\n",
    "df.head(5)"
   ]
  },
  {
   "cell_type": "code",
   "execution_count": 46,
   "metadata": {},
   "outputs": [
    {
     "data": {
      "text/html": [
       "<div>\n",
       "<style scoped>\n",
       "    .dataframe tbody tr th:only-of-type {\n",
       "        vertical-align: middle;\n",
       "    }\n",
       "\n",
       "    .dataframe tbody tr th {\n",
       "        vertical-align: top;\n",
       "    }\n",
       "\n",
       "    .dataframe thead th {\n",
       "        text-align: right;\n",
       "    }\n",
       "</style>\n",
       "<table border=\"1\" class=\"dataframe\">\n",
       "  <thead>\n",
       "    <tr style=\"text-align: right;\">\n",
       "      <th></th>\n",
       "      <th>Country</th>\n",
       "      <th>mean</th>\n",
       "    </tr>\n",
       "  </thead>\n",
       "  <tbody>\n",
       "    <tr>\n",
       "      <th>1</th>\n",
       "      <td>Lithuania</td>\n",
       "      <td>39.74</td>\n",
       "    </tr>\n",
       "    <tr>\n",
       "      <th>2</th>\n",
       "      <td>Belarus</td>\n",
       "      <td>35.78</td>\n",
       "    </tr>\n",
       "    <tr>\n",
       "      <th>3</th>\n",
       "      <td>Ukraine</td>\n",
       "      <td>28.80</td>\n",
       "    </tr>\n",
       "    <tr>\n",
       "      <th>4</th>\n",
       "      <td>Latvia</td>\n",
       "      <td>25.38</td>\n",
       "    </tr>\n",
       "    <tr>\n",
       "      <th>5</th>\n",
       "      <td>Kazakhstan</td>\n",
       "      <td>30.70</td>\n",
       "    </tr>\n",
       "  </tbody>\n",
       "</table>\n",
       "</div>"
      ],
      "text/plain": [
       "      Country   mean\n",
       "1   Lithuania  39.74\n",
       "2     Belarus  35.78\n",
       "3     Ukraine  28.80\n",
       "4      Latvia  25.38\n",
       "5  Kazakhstan  30.70"
      ]
     },
     "execution_count": 46,
     "metadata": {},
     "output_type": "execute_result"
    }
   ],
   "source": [
    "df = df.drop(['2016','2015','2010','2005','2000'], axis='columns')\n",
    "df.head(5)"
   ]
  },
  {
   "cell_type": "code",
   "execution_count": 47,
   "metadata": {},
   "outputs": [
    {
     "data": {
      "text/html": [
       "<div>\n",
       "<style scoped>\n",
       "    .dataframe tbody tr th:only-of-type {\n",
       "        vertical-align: middle;\n",
       "    }\n",
       "\n",
       "    .dataframe tbody tr th {\n",
       "        vertical-align: top;\n",
       "    }\n",
       "\n",
       "    .dataframe thead th {\n",
       "        text-align: right;\n",
       "    }\n",
       "</style>\n",
       "<table border=\"1\" class=\"dataframe\">\n",
       "  <thead>\n",
       "    <tr style=\"text-align: right;\">\n",
       "      <th></th>\n",
       "      <th>Country</th>\n",
       "      <th>Suicide Rate</th>\n",
       "    </tr>\n",
       "  </thead>\n",
       "  <tbody>\n",
       "    <tr>\n",
       "      <th>1</th>\n",
       "      <td>Lithuania</td>\n",
       "      <td>39.74</td>\n",
       "    </tr>\n",
       "    <tr>\n",
       "      <th>2</th>\n",
       "      <td>Belarus</td>\n",
       "      <td>35.78</td>\n",
       "    </tr>\n",
       "    <tr>\n",
       "      <th>3</th>\n",
       "      <td>Ukraine</td>\n",
       "      <td>28.80</td>\n",
       "    </tr>\n",
       "    <tr>\n",
       "      <th>4</th>\n",
       "      <td>Latvia</td>\n",
       "      <td>25.38</td>\n",
       "    </tr>\n",
       "    <tr>\n",
       "      <th>5</th>\n",
       "      <td>Kazakhstan</td>\n",
       "      <td>30.70</td>\n",
       "    </tr>\n",
       "  </tbody>\n",
       "</table>\n",
       "</div>"
      ],
      "text/plain": [
       "      Country  Suicide Rate\n",
       "1   Lithuania         39.74\n",
       "2     Belarus         35.78\n",
       "3     Ukraine         28.80\n",
       "4      Latvia         25.38\n",
       "5  Kazakhstan         30.70"
      ]
     },
     "execution_count": 47,
     "metadata": {},
     "output_type": "execute_result"
    }
   ],
   "source": [
    "df.rename(columns={\"mean\":\"Suicide Rate\"},inplace = True)\n",
    "df.head(5)"
   ]
  },
  {
   "cell_type": "code",
   "execution_count": 48,
   "metadata": {},
   "outputs": [
    {
     "data": {
      "text/plain": [
       "<seaborn.axisgrid.FacetGrid at 0x7f9093975070>"
      ]
     },
     "execution_count": 48,
     "metadata": {},
     "output_type": "execute_result"
    },
    {
     "data": {
      "image/png": "[encoded data removed]",
      "text/plain": [
       "<Figure size 360x360 with 1 Axes>"
      ]
     },
     "metadata": {},
     "output_type": "display_data"
    }
   ],
   "source": [
    "sns.displot(df['Suicide Rate'])"
   ]
  },
  {
   "cell_type": "code",
   "execution_count": 50,
   "metadata": {},
   "outputs": [
    {
     "data": {
      "application/vnd.plotly.v1+json": {
       "config": {
        "plotlyServerURL": "https://plot.ly"
       },
       "data": [
        {
         "autocolorscale": false,
         "colorbar": {
          "title": {
           "text": "Suicide Rate"
          }
         },
         "colorscale": [
          [
           0,
           "rgb(0, 0, 0)"
          ],
          [
           0.09090909090909091,
           "rgb(16, 16, 16)"
          ],
          [
           0.18181818181818182,
           "rgb(38, 38, 38)"
          ],
          [
           0.2727272727272727,
           "rgb(59, 59, 59)"
          ],
          [
           0.36363636363636365,
           "rgb(81, 80, 80)"
          ],
          [
           0.45454545454545453,
           "rgb(102, 101, 101)"
          ],
          [
           0.5454545454545454,
           "rgb(124, 123, 122)"
          ],
          [
           0.6363636363636364,
           "rgb(146, 146, 145)"
          ],
          [
           0.7272727272727273,
           "rgb(171, 171, 170)"
          ],
          [
           0.8181818181818182,
           "rgb(197, 197, 195)"
          ],
          [
           0.9090909090909091,
           "rgb(224, 224, 223)"
          ],
          [
           1,
           "rgb(254, 254, 253)"
          ]
         ],
         "locationmode": "country names",
         "locations": [
          "Lithuania",
          "Belarus",
          "Ukraine",
          "Latvia",
          "Kazakhstan",
          "Hungary",
          "Slovenia",
          "Estonia",
          "Sri Lanka",
          "Japan",
          "Finland",
          "Suriname",
          "Guyana",
          "Belgium",
          "France",
          "Switzerland",
          "Croatia",
          "Serbia",
          "Austria",
          "Bulgaria",
          "Lesotho",
          "Mongolia",
          "India",
          "Uruguay",
          "Cuba",
          "Nicaragua",
          "Czechia",
          "Poland",
          "Luxembourg",
          "Republic of Moldova",
          "Bolivia (Plurinational State of)",
          "Thailand",
          "Iceland",
          "Denmark",
          "Sweden",
          "Rwanda",
          "Equatorial Guinea",
          "Nepal",
          "Trinidad and Tobago",
          "Republic of Korea",
          "Germany",
          "Slovakia",
          "Kiribati",
          "El Salvador",
          "Norway",
          "Cameroon",
          "Romania",
          "Australia",
          "China",
          "Canada",
          "Zimbabwe",
          "New Zealand",
          "Kyrgyzstan",
          "Bhutan",
          "Ireland",
          "Singapore",
          "Botswana",
          "Eswatini",
          "South Africa",
          "Eritrea",
          "United States of America",
          "Solomon Islands",
          "Uganda",
          "Sierra Leone",
          "Mauritius",
          "Chile",
          "Namibia",
          "Micronesia (Federated States of)",
          "Iran (Islamic Republic of)",
          "Bosnia and Herzegovina",
          "Montenegro",
          "Nigeria",
          "Paraguay",
          "Lao People's Democratic Republic",
          "Democratic People's Republic of Korea",
          "Congo",
          "Netherlands",
          "Togo",
          "Côte d'Ivoire",
          "Benin",
          "Argentina",
          "Cabo Verde",
          "Timor-Leste",
          "Turkmenistan",
          "Dominican Republic",
          "United Kingdom of Great Britain and Northern Ireland",
          "Central African Republic",
          "Mozambique",
          "Haiti",
          "Seychelles",
          "Spain",
          "Samoa",
          "Burkina Faso",
          "Zambia",
          "Chad",
          "Ethiopia",
          "Venezuela (Bolivarian Republic of)",
          "Sudan",
          "Angola",
          "Italy",
          "Senegal",
          "North Macedonia",
          "Colombia",
          "Uzbekistan",
          "Portugal",
          "Israel",
          "Costa Rica",
          "Myanmar",
          "Vanuatu",
          "Turkey",
          "Burundi",
          "Papua New Guinea",
          "United Republic of Tanzania",
          "Morocco",
          "Yemen",
          "Bahrain",
          "Viet Nam",
          "Bangladesh",
          "Gabon",
          "Democratic Republic of the Congo",
          "Gambia",
          "Malta",
          "Saint Lucia",
          "Saint Vincent and the Grenadines",
          "Guinea",
          "Malawi",
          "Ecuador",
          "Panama",
          "Georgia",
          "Djibouti",
          "Liberia",
          "Afghanistan",
          "Cambodia",
          "Albania",
          "Belize",
          "Mali",
          "Libya",
          "Malaysia",
          "Comoros",
          "Peru",
          "Guinea-Bissau",
          "Brazil",
          "South Sudan",
          "Somalia",
          "Madagascar",
          "Niger",
          "Kenya",
          "Maldives",
          "Fiji",
          "Oman",
          "Algeria",
          "Ghana",
          "Indonesia",
          "Mexico",
          "Tonga",
          "Tunisia",
          "Mauritania",
          "Greece",
          "Pakistan",
          "Qatar",
          "Jordan",
          "Armenia",
          "Egypt",
          "Guatemala",
          "United Arab Emirates",
          "Lebanon",
          "Tajikistan",
          "Brunei Darussalam",
          "Saudi Arabia",
          "Iraq",
          "Philippines",
          "Honduras",
          "Jamaica",
          "Azerbaijan",
          "Cyprus",
          "Barbados",
          "Kuwait",
          "Bahamas",
          "Sao Tome and Principe",
          "Antigua and Barbuda",
          "Grenada",
          "Syrian Arab Republic"
         ],
         "marker": {
          "line": {
           "color": "darkgray",
           "width": 0.1
          }
         },
         "reversescale": true,
         "text": [
          "Lithuania",
          "Belarus",
          "Ukraine",
          "Latvia",
          "Kazakhstan",
          "Hungary",
          "Slovenia",
          "Estonia",
          "Sri Lanka",
          "Japan",
          "Finland",
          "Suriname",
          "Guyana",
          "Belgium",
          "France",
          "Switzerland",
          "Croatia",
          "Serbia",
          "Austria",
          "Bulgaria",
          "Lesotho",
          "Mongolia",
          "India",
          "Uruguay",
          "Cuba",
          "Nicaragua",
          "Czechia",
          "Poland",
          "Luxembourg",
          "Republic of Moldova",
          "Bolivia (Plurinational State of)",
          "Thailand",
          "Iceland",
          "Denmark",
          "Sweden",
          "Rwanda",
          "Equatorial Guinea",
          "Nepal",
          "Trinidad and Tobago",
          "Republic of Korea",
          "Germany",
          "Slovakia",
          "Kiribati",
          "El Salvador",
          "Norway",
          "Cameroon",
          "Romania",
          "Australia",
          "China",
          "Canada",
          "Zimbabwe",
          "New Zealand",
          "Kyrgyzstan",
          "Bhutan",
          "Ireland",
          "Singapore",
          "Botswana",
          "Eswatini",
          "South Africa",
          "Eritrea",
          "United States of America",
          "Solomon Islands",
          "Uganda",
          "Sierra Leone",
          "Mauritius",
          "Chile",
          "Namibia",
          "Micronesia (Federated States of)",
          "Iran (Islamic Republic of)",
          "Bosnia and Herzegovina",
          "Montenegro",
          "Nigeria",
          "Paraguay",
          "Lao People's Democratic Republic",
          "Democratic People's Republic of Korea",
          "Congo",
          "Netherlands",
          "Togo",
          "Côte d'Ivoire",
          "Benin",
          "Argentina",
          "Cabo Verde",
          "Timor-Leste",
          "Turkmenistan",
          "Dominican Republic",
          "United Kingdom of Great Britain and Northern Ireland",
          "Central African Republic",
          "Mozambique",
          "Haiti",
          "Seychelles",
          "Spain",
          "Samoa",
          "Burkina Faso",
          "Zambia",
          "Chad",
          "Ethiopia",
          "Venezuela (Bolivarian Republic of)",
          "Sudan",
          "Angola",
          "Italy",
          "Senegal",
          "North Macedonia",
          "Colombia",
          "Uzbekistan",
          "Portugal",
          "Israel",
          "Costa Rica",
          "Myanmar",
          "Vanuatu",
          "Turkey",
          "Burundi",
          "Papua New Guinea",
          "United Republic of Tanzania",
          "Morocco",
          "Yemen",
          "Bahrain",
          "Viet Nam",
          "Bangladesh",
          "Gabon",
          "Democratic Republic of the Congo",
          "Gambia",
          "Malta",
          "Saint Lucia",
          "Saint Vincent and the Grenadines",
          "Guinea",
          "Malawi",
          "Ecuador",
          "Panama",
          "Georgia",
          "Djibouti",
          "Liberia",
          "Afghanistan",
          "Cambodia",
          "Albania",
          "Belize",
          "Mali",
          "Libya",
          "Malaysia",
          "Comoros",
          "Peru",
          "Guinea-Bissau",
          "Brazil",
          "South Sudan",
          "Somalia",
          "Madagascar",
          "Niger",
          "Kenya",
          "Maldives",
          "Fiji",
          "Oman",
          "Algeria",
          "Ghana",
          "Indonesia",
          "Mexico",
          "Tonga",
          "Tunisia",
          "Mauritania",
          "Greece",
          "Pakistan",
          "Qatar",
          "Jordan",
          "Armenia",
          "Egypt",
          "Guatemala",
          "United Arab Emirates",
          "Lebanon",
          "Tajikistan",
          "Brunei Darussalam",
          "Saudi Arabia",
          "Iraq",
          "Philippines",
          "Honduras",
          "Jamaica",
          "Azerbaijan",
          "Cyprus",
          "Barbados",
          "Kuwait",
          "Bahamas",
          "Sao Tome and Principe",
          "Antigua and Barbuda",
          "Grenada",
          "Syrian Arab Republic"
         ],
         "type": "choropleth",
         "z": [
          39.74,
          35.78,
          28.8,
          25.38,
          30.7,
          24.92,
          23.96,
          20.78,
          20.08,
          22.38,
          18.84,
          24.72,
          26.58,
          21.2,
          19.86,
          18.62,
          18.88,
          17.26,
          16.98,
          13.46,
          19.78,
          15.54,
          16.86,
          17.42,
          14.48,
          13.7,
          15.14,
          17.04,
          14.44,
          17.76,
          14.08,
          14.44,
          13.94,
          13.92,
          15.56,
          9.5,
          15.76,
          11.26,
          13.78,
          26.18,
          13.88,
          13.54,
          14.2,
          12.36,
          12.64,
          12.28,
          12.34,
          13,
          11.02,
          12.84,
          12,
          12.68,
          10.24,
          11.74,
          11.86,
          10.58,
          10.9,
          12.38,
          11.8,
          9.4,
          13.34,
          6.84,
          10.38,
          9.94,
          8.86,
          11.04,
          9.88,
          11.26,
          7.22,
          9.14,
          10.5,
          9.78,
          9.78,
          9.1,
          11.08,
          7.7,
          10.96,
          9.6,
          12.46,
          9.72,
          9.04,
          10.58,
          6,
          8.46,
          8.98,
          8.54,
          8.58,
          6.18,
          10.36,
          9.18,
          8.1,
          5.74,
          7.74,
          6.62,
          8.58,
          7.52,
          5.14,
          8.08,
          6.1,
          7.7,
          6.98,
          7.3,
          7.4,
          6.84,
          11.98,
          6.56,
          7.92,
          7.54,
          5.42,
          7.56,
          8.5,
          6.06,
          5.7,
          4.34,
          8.16,
          6.14,
          6.98,
          6.28,
          6.82,
          5.9,
          5.54,
          7.12,
          6.22,
          4.92,
          6.48,
          4.36,
          8.04,
          5.12,
          6.84,
          6,
          6.46,
          5.32,
          5.5,
          6.46,
          4.96,
          4.96,
          5.14,
          5.34,
          6.36,
          4.82,
          4.3,
          5.8,
          4.18,
          4.64,
          4.28,
          4.74,
          3.54,
          3.16,
          4.52,
          3.88,
          3.52,
          4.74,
          3.62,
          4.64,
          3.52,
          3.5,
          3.9,
          4,
          3.16,
          5.16,
          3.02,
          5.46,
          3.62,
          3.02,
          2.98,
          3.18,
          2.68,
          3.78,
          3.12,
          2.82,
          2.96,
          2.6,
          2.1,
          2.76,
          4.14,
          1.88,
          2.16,
          1.94,
          2.08,
          0.96,
          1.66,
          1.72
         ]
        }
       ],
       "layout": {
        "geo": {
         "showframe": false
        },
        "template": {
         "data": {
          "bar": [
           {
            "error_x": {
             "color": "#2a3f5f"
            },
            "error_y": {
             "color": "#2a3f5f"
            },
            "marker": {
             "line": {
              "color": "#E5ECF6",
              "width": 0.5
             }
            },
            "type": "bar"
           }
          ],
          "barpolar": [
           {
            "marker": {
             "line": {
              "color": "#E5ECF6",
              "width": 0.5
             }
            },
            "type": "barpolar"
           }
          ],
          "carpet": [
           {
            "aaxis": {
             "endlinecolor": "#2a3f5f",
             "gridcolor": "white",
             "linecolor": "white",
             "minorgridcolor": "white",
             "startlinecolor": "#2a3f5f"
            },
            "baxis": {
             "endlinecolor": "#2a3f5f",
             "gridcolor": "white",
             "linecolor": "white",
             "minorgridcolor": "white",
             "startlinecolor": "#2a3f5f"
            },
            "type": "carpet"
           }
          ],
          "choropleth": [
           {
            "colorbar": {
             "outlinewidth": 0,
             "ticks": ""
            },
            "type": "choropleth"
           }
          ],
          "contour": [
           {
            "colorbar": {
             "outlinewidth": 0,
             "ticks": ""
            },
            "colorscale": [
             [
              0,
              "#0d0887"
             ],
             [
              0.1111111111111111,
              "#46039f"
             ],
             [
              0.2222222222222222,
              "#7201a8"
             ],
             [
              0.3333333333333333,
              "#9c179e"
             ],
             [
              0.4444444444444444,
              "#bd3786"
             ],
             [
              0.5555555555555556,
              "#d8576b"
             ],
             [
              0.6666666666666666,
              "#ed7953"
             ],
             [
              0.7777777777777778,
              "#fb9f3a"
             ],
             [
              0.8888888888888888,
              "#fdca26"
             ],
             [
              1,
              "#f0f921"
             ]
            ],
            "type": "contour"
           }
          ],
          "contourcarpet": [
           {
            "colorbar": {
             "outlinewidth": 0,
             "ticks": ""
            },
            "type": "contourcarpet"
           }
          ],
          "heatmap": [
           {
            "colorbar": {
             "outlinewidth": 0,
             "ticks": ""
            },
            "colorscale": [
             [
              0,
              "#0d0887"
             ],
             [
              0.1111111111111111,
              "#46039f"
             ],
             [
              0.2222222222222222,
              "#7201a8"
             ],
             [
              0.3333333333333333,
              "#9c179e"
             ],
             [
              0.4444444444444444,
              "#bd3786"
             ],
             [
              0.5555555555555556,
              "#d8576b"
             ],
             [
              0.6666666666666666,
              "#ed7953"
             ],
             [
              0.7777777777777778,
              "#fb9f3a"
             ],
             [
              0.8888888888888888,
              "#fdca26"
             ],
             [
              1,
              "#f0f921"
             ]
            ],
            "type": "heatmap"
           }
          ],
          "heatmapgl": [
           {
            "colorbar": {
             "outlinewidth": 0,
             "ticks": ""
            },
            "colorscale": [
             [
              0,
              "#0d0887"
             ],
             [
              0.1111111111111111,
              "#46039f"
             ],
             [
              0.2222222222222222,
              "#7201a8"
             ],
             [
              0.3333333333333333,
              "#9c179e"
             ],
             [
              0.4444444444444444,
              "#bd3786"
             ],
             [
              0.5555555555555556,
              "#d8576b"
             ],
             [
              0.6666666666666666,
              "#ed7953"
             ],
             [
              0.7777777777777778,
              "#fb9f3a"
             ],
             [
              0.8888888888888888,
              "#fdca26"
             ],
             [
              1,
              "#f0f921"
             ]
            ],
            "type": "heatmapgl"
           }
          ],
          "histogram": [
           {
            "marker": {
             "colorbar": {
              "outlinewidth": 0,
              "ticks": ""
             }
            },
            "type": "histogram"
           }
          ],
          "histogram2d": [
           {
            "colorbar": {
             "outlinewidth": 0,
             "ticks": ""
            },
            "colorscale": [
             [
              0,
              "#0d0887"
             ],
             [
              0.1111111111111111,
              "#46039f"
             ],
             [
              0.2222222222222222,
              "#7201a8"
             ],
             [
              0.3333333333333333,
              "#9c179e"
             ],
             [
              0.4444444444444444,
              "#bd3786"
             ],
             [
              0.5555555555555556,
              "#d8576b"
             ],
             [
              0.6666666666666666,
              "#ed7953"
             ],
             [
              0.7777777777777778,
              "#fb9f3a"
             ],
             [
              0.8888888888888888,
              "#fdca26"
             ],
             [
              1,
              "#f0f921"
             ]
            ],
            "type": "histogram2d"
           }
          ],
          "histogram2dcontour": [
           {
            "colorbar": {
             "outlinewidth": 0,
             "ticks": ""
            },
            "colorscale": [
             [
              0,
              "#0d0887"
             ],
             [
              0.1111111111111111,
              "#46039f"
             ],
             [
              0.2222222222222222,
              "#7201a8"
             ],
             [
              0.3333333333333333,
              "#9c179e"
             ],
             [
              0.4444444444444444,
              "#bd3786"
             ],
             [
              0.5555555555555556,
              "#d8576b"
             ],
             [
              0.6666666666666666,
              "#ed7953"
             ],
             [
              0.7777777777777778,
              "#fb9f3a"
             ],
             [
              0.8888888888888888,
              "#fdca26"
             ],
             [
              1,
              "#f0f921"
             ]
            ],
            "type": "histogram2dcontour"
           }
          ],
          "mesh3d": [
           {
            "colorbar": {
             "outlinewidth": 0,
             "ticks": ""
            },
            "type": "mesh3d"
           }
          ],
          "parcoords": [
           {
            "line": {
             "colorbar": {
              "outlinewidth": 0,
              "ticks": ""
             }
            },
            "type": "parcoords"
           }
          ],
          "pie": [
           {
            "automargin": true,
            "type": "pie"
           }
          ],
          "scatter": [
           {
            "marker": {
             "colorbar": {
              "outlinewidth": 0,
              "ticks": ""
             }
            },
            "type": "scatter"
           }
          ],
          "scatter3d": [
           {
            "line": {
             "colorbar": {
              "outlinewidth": 0,
              "ticks": ""
             }
            },
            "marker": {
             "colorbar": {
              "outlinewidth": 0,
              "ticks": ""
             }
            },
            "type": "scatter3d"
           }
          ],
          "scattercarpet": [
           {
            "marker": {
             "colorbar": {
              "outlinewidth": 0,
              "ticks": ""
             }
            },
            "type": "scattercarpet"
           }
          ],
          "scattergeo": [
           {
            "marker": {
             "colorbar": {
              "outlinewidth": 0,
              "ticks": ""
             }
            },
            "type": "scattergeo"
           }
          ],
          "scattergl": [
           {
            "marker": {
             "colorbar": {
              "outlinewidth": 0,
              "ticks": ""
             }
            },
            "type": "scattergl"
           }
          ],
          "scattermapbox": [
           {
            "marker": {
             "colorbar": {
              "outlinewidth": 0,
              "ticks": ""
             }
            },
            "type": "scattermapbox"
           }
          ],
          "scatterpolar": [
           {
            "marker": {
             "colorbar": {
              "outlinewidth": 0,
              "ticks": ""
             }
            },
            "type": "scatterpolar"
           }
          ],
          "scatterpolargl": [
           {
            "marker": {
             "colorbar": {
              "outlinewidth": 0,
              "ticks": ""
             }
            },
            "type": "scatterpolargl"
           }
          ],
          "scatterternary": [
           {
            "marker": {
             "colorbar": {
              "outlinewidth": 0,
              "ticks": ""
             }
            },
            "type": "scatterternary"
           }
          ],
          "surface": [
           {
            "colorbar": {
             "outlinewidth": 0,
             "ticks": ""
            },
            "colorscale": [
             [
              0,
              "#0d0887"
             ],
             [
              0.1111111111111111,
              "#46039f"
             ],
             [
              0.2222222222222222,
              "#7201a8"
             ],
             [
              0.3333333333333333,
              "#9c179e"
             ],
             [
              0.4444444444444444,
              "#bd3786"
             ],
             [
              0.5555555555555556,
              "#d8576b"
             ],
             [
              0.6666666666666666,
              "#ed7953"
             ],
             [
              0.7777777777777778,
              "#fb9f3a"
             ],
             [
              0.8888888888888888,
              "#fdca26"
             ],
             [
              1,
              "#f0f921"
             ]
            ],
            "type": "surface"
           }
          ],
          "table": [
           {
            "cells": {
             "fill": {
              "color": "#EBF0F8"
             },
             "line": {
              "color": "white"
             }
            },
            "header": {
             "fill": {
              "color": "#C8D4E3"
             },
             "line": {
              "color": "white"
             }
            },
            "type": "table"
           }
          ]
         },
         "layout": {
          "annotationdefaults": {
           "arrowcolor": "#2a3f5f",
           "arrowhead": 0,
           "arrowwidth": 1
          },
          "autotypenumbers": "strict",
          "coloraxis": {
           "colorbar": {
            "outlinewidth": 0,
            "ticks": ""
           }
          },
          "colorscale": {
           "diverging": [
            [
             0,
             "#8e0152"
            ],
            [
             0.1,
             "#c51b7d"
            ],
            [
             0.2,
             "#de77ae"
            ],
            [
             0.3,
             "#f1b6da"
            ],
            [
             0.4,
             "#fde0ef"
            ],
            [
             0.5,
             "#f7f7f7"
            ],
            [
             0.6,
             "#e6f5d0"
            ],
            [
             0.7,
             "#b8e186"
            ],
            [
             0.8,
             "#7fbc41"
            ],
            [
             0.9,
             "#4d9221"
            ],
            [
             1,
             "#276419"
            ]
           ],
           "sequential": [
            [
             0,
             "#0d0887"
            ],
            [
             0.1111111111111111,
             "#46039f"
            ],
            [
             0.2222222222222222,
             "#7201a8"
            ],
            [
             0.3333333333333333,
             "#9c179e"
            ],
            [
             0.4444444444444444,
             "#bd3786"
            ],
            [
             0.5555555555555556,
             "#d8576b"
            ],
            [
             0.6666666666666666,
             "#ed7953"
            ],
            [
             0.7777777777777778,
             "#fb9f3a"
            ],
            [
             0.8888888888888888,
             "#fdca26"
            ],
            [
             1,
             "#f0f921"
            ]
           ],
           "sequentialminus": [
            [
             0,
             "#0d0887"
            ],
            [
             0.1111111111111111,
             "#46039f"
            ],
            [
             0.2222222222222222,
             "#7201a8"
            ],
            [
             0.3333333333333333,
             "#9c179e"
            ],
            [
             0.4444444444444444,
             "#bd3786"
            ],
            [
             0.5555555555555556,
             "#d8576b"
            ],
            [
             0.6666666666666666,
             "#ed7953"
            ],
            [
             0.7777777777777778,
             "#fb9f3a"
            ],
            [
             0.8888888888888888,
             "#fdca26"
            ],
            [
             1,
             "#f0f921"
            ]
           ]
          },
          "colorway": [
           "#636efa",
           "#EF553B",
           "#00cc96",
           "#ab63fa",
           "#FFA15A",
           "#19d3f3",
           "#FF6692",
           "#B6E880",
           "#FF97FF",
           "#FECB52"
          ],
          "font": {
           "color": "#2a3f5f"
          },
          "geo": {
           "bgcolor": "white",
           "lakecolor": "white",
           "landcolor": "#E5ECF6",
           "showlakes": true,
           "showland": true,
           "subunitcolor": "white"
          },
          "hoverlabel": {
           "align": "left"
          },
          "hovermode": "closest",
          "mapbox": {
           "style": "light"
          },
          "paper_bgcolor": "white",
          "plot_bgcolor": "#E5ECF6",
          "polar": {
           "angularaxis": {
            "gridcolor": "white",
            "linecolor": "white",
            "ticks": ""
           },
           "bgcolor": "#E5ECF6",
           "radialaxis": {
            "gridcolor": "white",
            "linecolor": "white",
            "ticks": ""
           }
          },
          "scene": {
           "xaxis": {
            "backgroundcolor": "#E5ECF6",
            "gridcolor": "white",
            "gridwidth": 2,
            "linecolor": "white",
            "showbackground": true,
            "ticks": "",
            "zerolinecolor": "white"
           },
           "yaxis": {
            "backgroundcolor": "#E5ECF6",
            "gridcolor": "white",
            "gridwidth": 2,
            "linecolor": "white",
            "showbackground": true,
            "ticks": "",
            "zerolinecolor": "white"
           },
           "zaxis": {
            "backgroundcolor": "#E5ECF6",
            "gridcolor": "white",
            "gridwidth": 2,
            "linecolor": "white",
            "showbackground": true,
            "ticks": "",
            "zerolinecolor": "white"
           }
          },
          "shapedefaults": {
           "line": {
            "color": "#2a3f5f"
           }
          },
          "ternary": {
           "aaxis": {
            "gridcolor": "white",
            "linecolor": "white",
            "ticks": ""
           },
           "baxis": {
            "gridcolor": "white",
            "linecolor": "white",
            "ticks": ""
           },
           "bgcolor": "#E5ECF6",
           "caxis": {
            "gridcolor": "white",
            "linecolor": "white",
            "ticks": ""
           }
          },
          "title": {
           "x": 0.05
          },
          "xaxis": {
           "automargin": true,
           "gridcolor": "white",
           "linecolor": "white",
           "ticks": "",
           "title": {
            "standoff": 15
           },
           "zerolinecolor": "white",
           "zerolinewidth": 2
          },
          "yaxis": {
           "automargin": true,
           "gridcolor": "white",
           "linecolor": "white",
           "ticks": "",
           "title": {
            "standoff": 15
           },
           "zerolinecolor": "white",
           "zerolinewidth": 2
          }
         }
        },
        "title": {
         "text": "World Average Suicide Rate"
        }
       }
      },
      "text/html": [
       "<div>                            <div id=\"0df445df-4a33-444e-bba2-ab40f3703383\" class=\"plotly-graph-div\" style=\"height:525px; width:100%;\"></div>            <script type=\"text/javascript\">                require([\"plotly\"], function(Plotly) {                    window.PLOTLYENV=window.PLOTLYENV || {};                                    if (document.getElementById(\"0df445df-4a33-444e-bba2-ab40f3703383\")) {                    Plotly.newPlot(                        \"0df445df-4a33-444e-bba2-ab40f3703383\",                        [{\"autocolorscale\": false, \"colorbar\": {\"title\": {\"text\": \"Suicide Rate\"}}, \"colorscale\": [[0.0, \"rgb(0, 0, 0)\"], [0.09090909090909091, \"rgb(16, 16, 16)\"], [0.18181818181818182, \"rgb(38, 38, 38)\"], [0.2727272727272727, \"rgb(59, 59, 59)\"], [0.36363636363636365, \"rgb(81, 80, 80)\"], [0.45454545454545453, \"rgb(102, 101, 101)\"], [0.5454545454545454, \"rgb(124, 123, 122)\"], [0.6363636363636364, \"rgb(146, 146, 145)\"], [0.7272727272727273, \"rgb(171, 171, 170)\"], [0.8181818181818182, \"rgb(197, 197, 195)\"], [0.9090909090909091, \"rgb(224, 224, 223)\"], [1.0, \"rgb(254, 254, 253)\"]], \"locationmode\": \"country names\", \"locations\": [\"Lithuania\", \"Belarus\", \"Ukraine\", \"Latvia\", \"Kazakhstan\", \"Hungary\", \"Slovenia\", \"Estonia\", \"Sri Lanka\", \"Japan\", \"Finland\", \"Suriname\", \"Guyana\", \"Belgium\", \"France\", \"Switzerland\", \"Croatia\", \"Serbia\", \"Austria\", \"Bulgaria\", \"Lesotho\", \"Mongolia\", \"India\", \"Uruguay\", \"Cuba\", \"Nicaragua\", \"Czechia\", \"Poland\", \"Luxembourg\", \"Republic of Moldova\", \"Bolivia (Plurinational State of)\", \"Thailand\", \"Iceland\", \"Denmark\", \"Sweden\", \"Rwanda\", \"Equatorial Guinea\", \"Nepal\", \"Trinidad and Tobago\", \"Republic of Korea\", \"Germany\", \"Slovakia\", \"Kiribati\", \"El Salvador\", \"Norway\", \"Cameroon\", \"Romania\", \"Australia\", \"China\", \"Canada\", \"Zimbabwe\", \"New Zealand\", \"Kyrgyzstan\", \"Bhutan\", \"Ireland\", \"Singapore\", \"Botswana\", \"Eswatini\", \"South Africa\", \"Eritrea\", \"United States of America\", \"Solomon Islands\", \"Uganda\", \"Sierra Leone\", \"Mauritius\", \"Chile\", \"Namibia\", \"Micronesia (Federated States of)\", \"Iran (Islamic Republic of)\", \"Bosnia and Herzegovina\", \"Montenegro\", \"Nigeria\", \"Paraguay\", \"Lao People's Democratic Republic\", \"Democratic People's Republic of Korea\", \"Congo\", \"Netherlands\", \"Togo\", \"C\\u00f4te d'Ivoire\", \"Benin\", \"Argentina\", \"Cabo Verde\", \"Timor-Leste\", \"Turkmenistan\", \"Dominican Republic\", \"United Kingdom of Great Britain and Northern Ireland\", \"Central African Republic\", \"Mozambique\", \"Haiti\", \"Seychelles\", \"Spain\", \"Samoa\", \"Burkina Faso\", \"Zambia\", \"Chad\", \"Ethiopia\", \"Venezuela (Bolivarian Republic of)\", \"Sudan\", \"Angola\", \"Italy\", \"Senegal\", \"North Macedonia\", \"Colombia\", \"Uzbekistan\", \"Portugal\", \"Israel\", \"Costa Rica\", \"Myanmar\", \"Vanuatu\", \"Turkey\", \"Burundi\", \"Papua New Guinea\", \"United Republic of Tanzania\", \"Morocco\", \"Yemen\", \"Bahrain\", \"Viet Nam\", \"Bangladesh\", \"Gabon\", \"Democratic Republic of the Congo\", \"Gambia\", \"Malta\", \"Saint Lucia\", \"Saint Vincent and the Grenadines\", \"Guinea\", \"Malawi\", \"Ecuador\", \"Panama\", \"Georgia\", \"Djibouti\", \"Liberia\", \"Afghanistan\", \"Cambodia\", \"Albania\", \"Belize\", \"Mali\", \"Libya\", \"Malaysia\", \"Comoros\", \"Peru\", \"Guinea-Bissau\", \"Brazil\", \"South Sudan\", \"Somalia\", \"Madagascar\", \"Niger\", \"Kenya\", \"Maldives\", \"Fiji\", \"Oman\", \"Algeria\", \"Ghana\", \"Indonesia\", \"Mexico\", \"Tonga\", \"Tunisia\", \"Mauritania\", \"Greece\", \"Pakistan\", \"Qatar\", \"Jordan\", \"Armenia\", \"Egypt\", \"Guatemala\", \"United Arab Emirates\", \"Lebanon\", \"Tajikistan\", \"Brunei Darussalam\", \"Saudi Arabia\", \"Iraq\", \"Philippines\", \"Honduras\", \"Jamaica\", \"Azerbaijan\", \"Cyprus\", \"Barbados\", \"Kuwait\", \"Bahamas\", \"Sao Tome and Principe\", \"Antigua and Barbuda\", \"Grenada\", \"Syrian Arab Republic\"], \"marker\": {\"line\": {\"color\": \"darkgray\", \"width\": 0.1}}, \"reversescale\": true, \"text\": [\"Lithuania\", \"Belarus\", \"Ukraine\", \"Latvia\", \"Kazakhstan\", \"Hungary\", \"Slovenia\", \"Estonia\", \"Sri Lanka\", \"Japan\", \"Finland\", \"Suriname\", \"Guyana\", \"Belgium\", \"France\", \"Switzerland\", \"Croatia\", \"Serbia\", \"Austria\", \"Bulgaria\", \"Lesotho\", \"Mongolia\", \"India\", \"Uruguay\", \"Cuba\", \"Nicaragua\", \"Czechia\", \"Poland\", \"Luxembourg\", \"Republic of Moldova\", \"Bolivia (Plurinational State of)\", \"Thailand\", \"Iceland\", \"Denmark\", \"Sweden\", \"Rwanda\", \"Equatorial Guinea\", \"Nepal\", \"Trinidad and Tobago\", \"Republic of Korea\", \"Germany\", \"Slovakia\", \"Kiribati\", \"El Salvador\", \"Norway\", \"Cameroon\", \"Romania\", \"Australia\", \"China\", \"Canada\", \"Zimbabwe\", \"New Zealand\", \"Kyrgyzstan\", \"Bhutan\", \"Ireland\", \"Singapore\", \"Botswana\", \"Eswatini\", \"South Africa\", \"Eritrea\", \"United States of America\", \"Solomon Islands\", \"Uganda\", \"Sierra Leone\", \"Mauritius\", \"Chile\", \"Namibia\", \"Micronesia (Federated States of)\", \"Iran (Islamic Republic of)\", \"Bosnia and Herzegovina\", \"Montenegro\", \"Nigeria\", \"Paraguay\", \"Lao People's Democratic Republic\", \"Democratic People's Republic of Korea\", \"Congo\", \"Netherlands\", \"Togo\", \"C\\u00f4te d'Ivoire\", \"Benin\", \"Argentina\", \"Cabo Verde\", \"Timor-Leste\", \"Turkmenistan\", \"Dominican Republic\", \"United Kingdom of Great Britain and Northern Ireland\", \"Central African Republic\", \"Mozambique\", \"Haiti\", \"Seychelles\", \"Spain\", \"Samoa\", \"Burkina Faso\", \"Zambia\", \"Chad\", \"Ethiopia\", \"Venezuela (Bolivarian Republic of)\", \"Sudan\", \"Angola\", \"Italy\", \"Senegal\", \"North Macedonia\", \"Colombia\", \"Uzbekistan\", \"Portugal\", \"Israel\", \"Costa Rica\", \"Myanmar\", \"Vanuatu\", \"Turkey\", \"Burundi\", \"Papua New Guinea\", \"United Republic of Tanzania\", \"Morocco\", \"Yemen\", \"Bahrain\", \"Viet Nam\", \"Bangladesh\", \"Gabon\", \"Democratic Republic of the Congo\", \"Gambia\", \"Malta\", \"Saint Lucia\", \"Saint Vincent and the Grenadines\", \"Guinea\", \"Malawi\", \"Ecuador\", \"Panama\", \"Georgia\", \"Djibouti\", \"Liberia\", \"Afghanistan\", \"Cambodia\", \"Albania\", \"Belize\", \"Mali\", \"Libya\", \"Malaysia\", \"Comoros\", \"Peru\", \"Guinea-Bissau\", \"Brazil\", \"South Sudan\", \"Somalia\", \"Madagascar\", \"Niger\", \"Kenya\", \"Maldives\", \"Fiji\", \"Oman\", \"Algeria\", \"Ghana\", \"Indonesia\", \"Mexico\", \"Tonga\", \"Tunisia\", \"Mauritania\", \"Greece\", \"Pakistan\", \"Qatar\", \"Jordan\", \"Armenia\", \"Egypt\", \"Guatemala\", \"United Arab Emirates\", \"Lebanon\", \"Tajikistan\", \"Brunei Darussalam\", \"Saudi Arabia\", \"Iraq\", \"Philippines\", \"Honduras\", \"Jamaica\", \"Azerbaijan\", \"Cyprus\", \"Barbados\", \"Kuwait\", \"Bahamas\", \"Sao Tome and Principe\", \"Antigua and Barbuda\", \"Grenada\", \"Syrian Arab Republic\"], \"type\": \"choropleth\", \"z\": [39.74, 35.78, 28.8, 25.38, 30.7, 24.92, 23.96, 20.78, 20.08, 22.38, 18.84, 24.72, 26.58, 21.2, 19.86, 18.62, 18.88, 17.26, 16.98, 13.46, 19.78, 15.54, 16.86, 17.42, 14.48, 13.7, 15.14, 17.04, 14.44, 17.76, 14.08, 14.44, 13.94, 13.92, 15.56, 9.5, 15.76, 11.26, 13.78, 26.18, 13.88, 13.54, 14.2, 12.36, 12.64, 12.28, 12.34, 13.0, 11.02, 12.84, 12.0, 12.68, 10.24, 11.74, 11.86, 10.58, 10.9, 12.38, 11.8, 9.4, 13.34, 6.84, 10.38, 9.94, 8.86, 11.04, 9.88, 11.26, 7.22, 9.14, 10.5, 9.78, 9.78, 9.1, 11.08, 7.7, 10.96, 9.6, 12.46, 9.72, 9.04, 10.58, 6.0, 8.46, 8.98, 8.54, 8.58, 6.18, 10.36, 9.18, 8.1, 5.74, 7.74, 6.62, 8.58, 7.52, 5.14, 8.08, 6.1, 7.7, 6.98, 7.3, 7.4, 6.84, 11.98, 6.56, 7.92, 7.54, 5.42, 7.56, 8.5, 6.06, 5.7, 4.34, 8.16, 6.14, 6.98, 6.28, 6.82, 5.9, 5.54, 7.12, 6.22, 4.92, 6.48, 4.36, 8.04, 5.12, 6.84, 6.0, 6.46, 5.32, 5.5, 6.46, 4.96, 4.96, 5.14, 5.34, 6.36, 4.82, 4.3, 5.8, 4.18, 4.64, 4.28, 4.74, 3.54, 3.16, 4.52, 3.88, 3.52, 4.74, 3.62, 4.64, 3.52, 3.5, 3.9, 4.0, 3.16, 5.16, 3.02, 5.46, 3.62, 3.02, 2.98, 3.18, 2.68, 3.78, 3.12, 2.82, 2.96, 2.6, 2.1, 2.76, 4.14, 1.88, 2.16, 1.94, 2.08, 0.96, 1.66, 1.72]}],                        {\"geo\": {\"showframe\": false}, \"template\": {\"data\": {\"bar\": [{\"error_x\": {\"color\": \"#2a3f5f\"}, \"error_y\": {\"color\": \"#2a3f5f\"}, \"marker\": {\"line\": {\"color\": \"#E5ECF6\", \"width\": 0.5}}, \"type\": \"bar\"}], \"barpolar\": [{\"marker\": {\"line\": {\"color\": \"#E5ECF6\", \"width\": 0.5}}, \"type\": \"barpolar\"}], \"carpet\": [{\"aaxis\": {\"endlinecolor\": \"#2a3f5f\", \"gridcolor\": \"white\", \"linecolor\": \"white\", \"minorgridcolor\": \"white\", \"startlinecolor\": \"#2a3f5f\"}, \"baxis\": {\"endlinecolor\": \"#2a3f5f\", \"gridcolor\": \"white\", \"linecolor\": \"white\", \"minorgridcolor\": \"white\", \"startlinecolor\": \"#2a3f5f\"}, \"type\": \"carpet\"}], \"choropleth\": [{\"colorbar\": {\"outlinewidth\": 0, \"ticks\": \"\"}, \"type\": \"choropleth\"}], \"contour\": [{\"colorbar\": {\"outlinewidth\": 0, \"ticks\": \"\"}, \"colorscale\": [[0.0, \"#0d0887\"], [0.1111111111111111, \"#46039f\"], [0.2222222222222222, \"#7201a8\"], [0.3333333333333333, \"#9c179e\"], [0.4444444444444444, \"#bd3786\"], [0.5555555555555556, \"#d8576b\"], [0.6666666666666666, \"#ed7953\"], [0.7777777777777778, \"#fb9f3a\"], [0.8888888888888888, \"#fdca26\"], [1.0, \"#f0f921\"]], \"type\": \"contour\"}], \"contourcarpet\": [{\"colorbar\": {\"outlinewidth\": 0, \"ticks\": \"\"}, \"type\": \"contourcarpet\"}], \"heatmap\": [{\"colorbar\": {\"outlinewidth\": 0, \"ticks\": \"\"}, \"colorscale\": [[0.0, \"#0d0887\"], [0.1111111111111111, \"#46039f\"], [0.2222222222222222, \"#7201a8\"], [0.3333333333333333, \"#9c179e\"], [0.4444444444444444, \"#bd3786\"], [0.5555555555555556, \"#d8576b\"], [0.6666666666666666, \"#ed7953\"], [0.7777777777777778, \"#fb9f3a\"], [0.8888888888888888, \"#fdca26\"], [1.0, \"#f0f921\"]], \"type\": \"heatmap\"}], \"heatmapgl\": [{\"colorbar\": {\"outlinewidth\": 0, \"ticks\": \"\"}, \"colorscale\": [[0.0, \"#0d0887\"], [0.1111111111111111, \"#46039f\"], [0.2222222222222222, \"#7201a8\"], [0.3333333333333333, \"#9c179e\"], [0.4444444444444444, \"#bd3786\"], [0.5555555555555556, \"#d8576b\"], [0.6666666666666666, \"#ed7953\"], [0.7777777777777778, \"#fb9f3a\"], [0.8888888888888888, \"#fdca26\"], [1.0, \"#f0f921\"]], \"type\": \"heatmapgl\"}], \"histogram\": [{\"marker\": {\"colorbar\": {\"outlinewidth\": 0, \"ticks\": \"\"}}, \"type\": \"histogram\"}], \"histogram2d\": [{\"colorbar\": {\"outlinewidth\": 0, \"ticks\": \"\"}, \"colorscale\": [[0.0, \"#0d0887\"], [0.1111111111111111, \"#46039f\"], [0.2222222222222222, \"#7201a8\"], [0.3333333333333333, \"#9c179e\"], [0.4444444444444444, \"#bd3786\"], [0.5555555555555556, \"#d8576b\"], [0.6666666666666666, \"#ed7953\"], [0.7777777777777778, \"#fb9f3a\"], [0.8888888888888888, \"#fdca26\"], [1.0, \"#f0f921\"]], \"type\": \"histogram2d\"}], \"histogram2dcontour\": [{\"colorbar\": {\"outlinewidth\": 0, \"ticks\": \"\"}, \"colorscale\": [[0.0, \"#0d0887\"], [0.1111111111111111, \"#46039f\"], [0.2222222222222222, \"#7201a8\"], [0.3333333333333333, \"#9c179e\"], [0.4444444444444444, \"#bd3786\"], [0.5555555555555556, \"#d8576b\"], [0.6666666666666666, \"#ed7953\"], [0.7777777777777778, \"#fb9f3a\"], [0.8888888888888888, \"#fdca26\"], [1.0, \"#f0f921\"]], \"type\": \"histogram2dcontour\"}], \"mesh3d\": [{\"colorbar\": {\"outlinewidth\": 0, \"ticks\": \"\"}, \"type\": \"mesh3d\"}], \"parcoords\": [{\"line\": {\"colorbar\": {\"outlinewidth\": 0, \"ticks\": \"\"}}, \"type\": \"parcoords\"}], \"pie\": [{\"automargin\": true, \"type\": \"pie\"}], \"scatter\": [{\"marker\": {\"colorbar\": {\"outlinewidth\": 0, \"ticks\": \"\"}}, \"type\": \"scatter\"}], \"scatter3d\": [{\"line\": {\"colorbar\": {\"outlinewidth\": 0, \"ticks\": \"\"}}, \"marker\": {\"colorbar\": {\"outlinewidth\": 0, \"ticks\": \"\"}}, \"type\": \"scatter3d\"}], \"scattercarpet\": [{\"marker\": {\"colorbar\": {\"outlinewidth\": 0, \"ticks\": \"\"}}, \"type\": \"scattercarpet\"}], \"scattergeo\": [{\"marker\": {\"colorbar\": {\"outlinewidth\": 0, \"ticks\": \"\"}}, \"type\": \"scattergeo\"}], \"scattergl\": [{\"marker\": {\"colorbar\": {\"outlinewidth\": 0, \"ticks\": \"\"}}, \"type\": \"scattergl\"}], \"scattermapbox\": [{\"marker\": {\"colorbar\": {\"outlinewidth\": 0, \"ticks\": \"\"}}, \"type\": \"scattermapbox\"}], \"scatterpolar\": [{\"marker\": {\"colorbar\": {\"outlinewidth\": 0, \"ticks\": \"\"}}, \"type\": \"scatterpolar\"}], \"scatterpolargl\": [{\"marker\": {\"colorbar\": {\"outlinewidth\": 0, \"ticks\": \"\"}}, \"type\": \"scatterpolargl\"}], \"scatterternary\": [{\"marker\": {\"colorbar\": {\"outlinewidth\": 0, \"ticks\": \"\"}}, \"type\": \"scatterternary\"}], \"surface\": [{\"colorbar\": {\"outlinewidth\": 0, \"ticks\": \"\"}, \"colorscale\": [[0.0, \"#0d0887\"], [0.1111111111111111, \"#46039f\"], [0.2222222222222222, \"#7201a8\"], [0.3333333333333333, \"#9c179e\"], [0.4444444444444444, \"#bd3786\"], [0.5555555555555556, \"#d8576b\"], [0.6666666666666666, \"#ed7953\"], [0.7777777777777778, \"#fb9f3a\"], [0.8888888888888888, \"#fdca26\"], [1.0, \"#f0f921\"]], \"type\": \"surface\"}], \"table\": [{\"cells\": {\"fill\": {\"color\": \"#EBF0F8\"}, \"line\": {\"color\": \"white\"}}, \"header\": {\"fill\": {\"color\": \"#C8D4E3\"}, \"line\": {\"color\": \"white\"}}, \"type\": \"table\"}]}, \"layout\": {\"annotationdefaults\": {\"arrowcolor\": \"#2a3f5f\", \"arrowhead\": 0, \"arrowwidth\": 1}, \"autotypenumbers\": \"strict\", \"coloraxis\": {\"colorbar\": {\"outlinewidth\": 0, \"ticks\": \"\"}}, \"colorscale\": {\"diverging\": [[0, \"#8e0152\"], [0.1, \"#c51b7d\"], [0.2, \"#de77ae\"], [0.3, \"#f1b6da\"], [0.4, \"#fde0ef\"], [0.5, \"#f7f7f7\"], [0.6, \"#e6f5d0\"], [0.7, \"#b8e186\"], [0.8, \"#7fbc41\"], [0.9, \"#4d9221\"], [1, \"#276419\"]], \"sequential\": [[0.0, \"#0d0887\"], [0.1111111111111111, \"#46039f\"], [0.2222222222222222, \"#7201a8\"], [0.3333333333333333, \"#9c179e\"], [0.4444444444444444, \"#bd3786\"], [0.5555555555555556, \"#d8576b\"], [0.6666666666666666, \"#ed7953\"], [0.7777777777777778, \"#fb9f3a\"], [0.8888888888888888, \"#fdca26\"], [1.0, \"#f0f921\"]], \"sequentialminus\": [[0.0, \"#0d0887\"], [0.1111111111111111, \"#46039f\"], [0.2222222222222222, \"#7201a8\"], [0.3333333333333333, \"#9c179e\"], [0.4444444444444444, \"#bd3786\"], [0.5555555555555556, \"#d8576b\"], [0.6666666666666666, \"#ed7953\"], [0.7777777777777778, \"#fb9f3a\"], [0.8888888888888888, \"#fdca26\"], [1.0, \"#f0f921\"]]}, \"colorway\": [\"#636efa\", \"#EF553B\", \"#00cc96\", \"#ab63fa\", \"#FFA15A\", \"#19d3f3\", \"#FF6692\", \"#B6E880\", \"#FF97FF\", \"#FECB52\"], \"font\": {\"color\": \"#2a3f5f\"}, \"geo\": {\"bgcolor\": \"white\", \"lakecolor\": \"white\", \"landcolor\": \"#E5ECF6\", \"showlakes\": true, \"showland\": true, \"subunitcolor\": \"white\"}, \"hoverlabel\": {\"align\": \"left\"}, \"hovermode\": \"closest\", \"mapbox\": {\"style\": \"light\"}, \"paper_bgcolor\": \"white\", \"plot_bgcolor\": \"#E5ECF6\", \"polar\": {\"angularaxis\": {\"gridcolor\": \"white\", \"linecolor\": \"white\", \"ticks\": \"\"}, \"bgcolor\": \"#E5ECF6\", \"radialaxis\": {\"gridcolor\": \"white\", \"linecolor\": \"white\", \"ticks\": \"\"}}, \"scene\": {\"xaxis\": {\"backgroundcolor\": \"#E5ECF6\", \"gridcolor\": \"white\", \"gridwidth\": 2, \"linecolor\": \"white\", \"showbackground\": true, \"ticks\": \"\", \"zerolinecolor\": \"white\"}, \"yaxis\": {\"backgroundcolor\": \"#E5ECF6\", \"gridcolor\": \"white\", \"gridwidth\": 2, \"linecolor\": \"white\", \"showbackground\": true, \"ticks\": \"\", \"zerolinecolor\": \"white\"}, \"zaxis\": {\"backgroundcolor\": \"#E5ECF6\", \"gridcolor\": \"white\", \"gridwidth\": 2, \"linecolor\": \"white\", \"showbackground\": true, \"ticks\": \"\", \"zerolinecolor\": \"white\"}}, \"shapedefaults\": {\"line\": {\"color\": \"#2a3f5f\"}}, \"ternary\": {\"aaxis\": {\"gridcolor\": \"white\", \"linecolor\": \"white\", \"ticks\": \"\"}, \"baxis\": {\"gridcolor\": \"white\", \"linecolor\": \"white\", \"ticks\": \"\"}, \"bgcolor\": \"#E5ECF6\", \"caxis\": {\"gridcolor\": \"white\", \"linecolor\": \"white\", \"ticks\": \"\"}}, \"title\": {\"x\": 0.05}, \"xaxis\": {\"automargin\": true, \"gridcolor\": \"white\", \"linecolor\": \"white\", \"ticks\": \"\", \"title\": {\"standoff\": 15}, \"zerolinecolor\": \"white\", \"zerolinewidth\": 2}, \"yaxis\": {\"automargin\": true, \"gridcolor\": \"white\", \"linecolor\": \"white\", \"ticks\": \"\", \"title\": {\"standoff\": 15}, \"zerolinecolor\": \"white\", \"zerolinewidth\": 2}}}, \"title\": {\"text\": \"World Average Suicide Rate\"}},                        {\"responsive\": true}                    ).then(function(){\n",
       "                            \n",
       "var gd = document.getElementById('0df445df-4a33-444e-bba2-ab40f3703383');\n",
       "var x = new MutationObserver(function (mutations, observer) {{\n",
       "        var display = window.getComputedStyle(gd).display;\n",
       "        if (!display || display === 'none') {{\n",
       "            console.log([gd, 'removed!']);\n",
       "            Plotly.purge(gd);\n",
       "            observer.disconnect();\n",
       "        }}\n",
       "}});\n",
       "\n",
       "// Listen for the removal of the full notebook cells\n",
       "var notebookContainer = gd.closest('#notebook-container');\n",
       "if (notebookContainer) {{\n",
       "    x.observe(notebookContainer, {childList: true});\n",
       "}}\n",
       "\n",
       "// Listen for the clearing of the current output cell\n",
       "var outputEl = gd.closest('.output');\n",
       "if (outputEl) {{\n",
       "    x.observe(outputEl, {childList: true});\n",
       "}}\n",
       "\n",
       "                        })                };                });            </script>        </div>"
      ]
     },
     "metadata": {},
     "output_type": "display_data"
    }
   ],
   "source": [
    "fig = go.Figure(data=go.Choropleth(\n",
    "    locations = df['Country'],\n",
    "    locationmode='country names',\n",
    "    z = df['Suicide Rate'],\n",
    "    text = df['Country'],\n",
    "    colorscale = 'gray',\n",
    "    autocolorscale=False,\n",
    "    reversescale=True,\n",
    "    marker_line_color='darkgray',\n",
    "    marker_line_width=0.1,\n",
    "    colorbar_title = 'Suicide Rate'),\n",
    "    layout = dict(title='World Average Suicide Rate', \n",
    "                  geo=dict(showframe=False#, projection={'type': 'Equirectangular'}\n",
    "                          ))\n",
    ")\n",
    "fig.show()"
   ]
  }
 ],
 "metadata": {
  "kernelspec": {
   "display_name": "Python 3",
   "language": "python",
   "name": "python3"
  },
  "language_info": {
   "codemirror_mode": {
    "name": "ipython",
    "version": 3
   },
   "file_extension": ".py",
   "mimetype": "text/x-python",
   "name": "python",
   "nbconvert_exporter": "python",
   "pygments_lexer": "ipython3",
   "version": "3.8.5"
  }
 },
 "nbformat": 4,
 "nbformat_minor": 4
}
